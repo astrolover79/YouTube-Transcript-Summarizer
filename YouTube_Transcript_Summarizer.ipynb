{
  "cells": [
    {
      "cell_type": "markdown",
      "metadata": {
        "id": "view-in-github",
        "colab_type": "text"
      },
      "source": [
        "<a href=\"https://colab.research.google.com/github/astrolover79/YouTube-Transcript-Summarizer/blob/main/YouTube_Transcript_Summarizer.ipynb\" target=\"_parent\"><img src=\"https://colab.research.google.com/assets/colab-badge.svg\" alt=\"Open In Colab\"/></a>"
      ]
    },
    {
      "cell_type": "markdown",
      "metadata": {
        "id": "CWl3ln2CClk7"
      },
      "source": [
        "YOUTUBE VIDEO DOWNLOAD IN MP3 FORMAT"
      ]
    },
    {
      "cell_type": "code",
      "execution_count": null,
      "metadata": {
        "colab": {
          "base_uri": "https://localhost:8080/"
        },
        "id": "vuEb7hX9r-d6",
        "outputId": "1ee72388-03dd-4ab5-f687-cf4d72c43720"
      },
      "outputs": [
        {
          "name": "stdout",
          "output_type": "stream",
          "text": [
            "Looking in indexes: https://pypi.org/simple, https://us-python.pkg.dev/colab-wheels/public/simple/\n",
            "Collecting pytube\n",
            "  Downloading pytube-15.0.0-py3-none-any.whl (57 kB)\n",
            "\u001b[2K     \u001b[90m━━━━━━━━━━━━━━━━━━━━━━━━━━━━━━━━━━━━━━━━\u001b[0m \u001b[32m57.6/57.6 kB\u001b[0m \u001b[31m1.7 MB/s\u001b[0m eta \u001b[36m0:00:00\u001b[0m\n",
            "\u001b[?25hInstalling collected packages: pytube\n",
            "Successfully installed pytube-15.0.0\n"
          ]
        }
      ],
      "source": [
        "!pip install pytube"
      ]
    },
    {
      "cell_type": "code",
      "execution_count": null,
      "metadata": {
        "id": "tm8ZnXg6Cs5B"
      },
      "outputs": [],
      "source": [
        "from pytube import YouTube\n",
        "import os"
      ]
    },
    {
      "cell_type": "code",
      "execution_count": null,
      "metadata": {
        "colab": {
          "base_uri": "https://localhost:8080/"
        },
        "id": "05LyxeeECvHI",
        "outputId": "ff205a2f-d741-4c31-b184-ef3fb515ea09"
      },
      "outputs": [
        {
          "name": "stdout",
          "output_type": "stream",
          "text": [
            "Enter the url of YouTube video: https://youtu.be/j09EQ-xlh88\n",
            "Please open https://www.google.com/device and input code KJLC-CVZX\n",
            "Press enter when you have completed this step.\n"
          ]
        }
      ],
      "source": [
        "#Take URL input of the YouTube video from user\n",
        "url_inp=input(\"Enter the url of YouTube video: \")\n",
        "yt=YouTube(url_inp,use_oauth=True, allow_oauth_cache=True)\n",
        "video=yt.streams.filter(only_audio=True).first() #Extract audio"
      ]
    },
    {
      "cell_type": "code",
      "execution_count": null,
      "metadata": {
        "colab": {
          "base_uri": "https://localhost:8080/"
        },
        "id": "TpoSF5UGC25n",
        "outputId": "37a2652b-1d6a-41f5-c5cf-fd285947ba8e"
      },
      "outputs": [
        {
          "name": "stdout",
          "output_type": "stream",
          "text": [
            ">> \n"
          ]
        }
      ],
      "source": [
        "#Destination to save the file\n",
        "dest=str(input(\">> \")) or \".\"\n",
        "\n",
        "#Download the file\n",
        "out_file=video.download(output_path=dest)"
      ]
    },
    {
      "cell_type": "code",
      "execution_count": null,
      "metadata": {
        "colab": {
          "base_uri": "https://localhost:8080/"
        },
        "id": "fwvu8tKRC6JH",
        "outputId": "ff5000da-cffd-4ce5-ff4a-773705ed59fb"
      },
      "outputs": [
        {
          "name": "stdout",
          "output_type": "stream",
          "text": [
            "File successfully downloaded\n"
          ]
        }
      ],
      "source": [
        "#Save the file\n",
        "base, ext= os.path.splitext(out_file)\n",
        "new_file=base + '.mp3'\n",
        "os.rename(out_file,new_file)\n",
        "print(\"File successfully downloaded\")"
      ]
    },
    {
      "cell_type": "markdown",
      "metadata": {
        "id": "JDN6psb6Dcf4"
      },
      "source": [
        "MP3 TO WAV CONVERSION"
      ]
    },
    {
      "cell_type": "code",
      "execution_count": null,
      "metadata": {
        "colab": {
          "base_uri": "https://localhost:8080/"
        },
        "id": "40QCRwOxDZfl",
        "outputId": "08918136-6ed4-4236-c40e-877b00d83429"
      },
      "outputs": [
        {
          "data": {
            "text/plain": [
              "0"
            ]
          },
          "execution_count": 6,
          "metadata": {},
          "output_type": "execute_result"
        }
      ],
      "source": [
        "import subprocess\n",
        "\n",
        "# convert mp3 to wav file\n",
        "subprocess.call(['ffmpeg', '-i', new_file,\n",
        "                 'converted_to_wav_file.wav'])"
      ]
    },
    {
      "cell_type": "markdown",
      "metadata": {
        "id": "B8AZ8J-XD6na"
      },
      "source": [
        "AUDIO TRANSCRIPTION"
      ]
    },
    {
      "cell_type": "code",
      "execution_count": null,
      "metadata": {
        "colab": {
          "base_uri": "https://localhost:8080/"
        },
        "id": "RNPB9gP5D_45",
        "outputId": "7c8e7ede-9179-495b-d456-038806ab85f7"
      },
      "outputs": [
        {
          "name": "stdout",
          "output_type": "stream",
          "text": [
            "\u001b[?25l     \u001b[90m━━━━━━━━━━━━━━━━━━━━━━━━━━━━━━━━━━━━━━━━\u001b[0m \u001b[32m0.0/474.6 kB\u001b[0m \u001b[31m?\u001b[0m eta \u001b[36m-:--:--\u001b[0m\r\u001b[2K     \u001b[91m━━━━━━━━━━━━━━━━━━━━━━━━━━━━━━━━━━━━━\u001b[0m\u001b[91m╸\u001b[0m \u001b[32m471.0/474.6 kB\u001b[0m \u001b[31m14.9 MB/s\u001b[0m eta \u001b[36m0:00:01\u001b[0m\r\u001b[2K     \u001b[90m━━━━━━━━━━━━━━━━━━━━━━━━━━━━━━━━━━━━━━\u001b[0m \u001b[32m474.6/474.6 kB\u001b[0m \u001b[31m11.1 MB/s\u001b[0m eta \u001b[36m0:00:00\u001b[0m\n",
            "\u001b[2K     \u001b[90m━━━━━━━━━━━━━━━━━━━━━━━━━━━━━━━━━━━━━━\u001b[0m \u001b[32m214.3/214.3 kB\u001b[0m \u001b[31m22.9 MB/s\u001b[0m eta \u001b[36m0:00:00\u001b[0m\n",
            "\u001b[2K     \u001b[90m━━━━━━━━━━━━━━━━━━━━━━━━━━━━━━━━━━━━━━━\u001b[0m \u001b[32m776.3/776.3 MB\u001b[0m \u001b[31m2.1 MB/s\u001b[0m eta \u001b[36m0:00:00\u001b[0m\n",
            "\u001b[2K     \u001b[90m━━━━━━━━━━━━━━━━━━━━━━━━━━━━━━━━━━━━━━━━\u001b[0m \u001b[32m7.1/7.1 MB\u001b[0m \u001b[31m95.8 MB/s\u001b[0m eta \u001b[36m0:00:00\u001b[0m\n",
            "\u001b[2K     \u001b[90m━━━━━━━━━━━━━━━━━━━━━━━━━━━━━━━━━━━━━━\u001b[0m \u001b[32m110.5/110.5 kB\u001b[0m \u001b[31m12.3 MB/s\u001b[0m eta \u001b[36m0:00:00\u001b[0m\n",
            "\u001b[2K     \u001b[90m━━━━━━━━━━━━━━━━━━━━━━━━━━━━━━━━━━━━━━\u001b[0m \u001b[32m212.5/212.5 kB\u001b[0m \u001b[31m19.2 MB/s\u001b[0m eta \u001b[36m0:00:00\u001b[0m\n",
            "\u001b[2K     \u001b[90m━━━━━━━━━━━━━━━━━━━━━━━━━━━━━━━━━━━━━━\u001b[0m \u001b[32m134.3/134.3 kB\u001b[0m \u001b[31m13.3 MB/s\u001b[0m eta \u001b[36m0:00:00\u001b[0m\n",
            "\u001b[2K     \u001b[90m━━━━━━━━━━━━━━━━━━━━━━━━━━━━━━━━━━━━━━━━\u001b[0m \u001b[32m1.0/1.0 MB\u001b[0m \u001b[31m53.1 MB/s\u001b[0m eta \u001b[36m0:00:00\u001b[0m\n",
            "\u001b[2K     \u001b[90m━━━━━━━━━━━━━━━━━━━━━━━━━━━━━━━━━━━━━━\u001b[0m \u001b[32m224.5/224.5 kB\u001b[0m \u001b[31m22.7 MB/s\u001b[0m eta \u001b[36m0:00:00\u001b[0m\n",
            "\u001b[2K     \u001b[90m━━━━━━━━━━━━━━━━━━━━━━━━━━━━━━━━━━━━━━━━\u001b[0m \u001b[32m2.2/2.2 MB\u001b[0m \u001b[31m91.5 MB/s\u001b[0m eta \u001b[36m0:00:00\u001b[0m\n",
            "\u001b[2K     \u001b[90m━━━━━━━━━━━━━━━━━━━━━━━━━━━━━━━━━━━━━━━━\u001b[0m \u001b[32m3.1/3.1 MB\u001b[0m \u001b[31m70.8 MB/s\u001b[0m eta \u001b[36m0:00:00\u001b[0m\n",
            "\u001b[2K     \u001b[90m━━━━━━━━━━━━━━━━━━━━━━━━━━━━━━━━━━━━━━━━\u001b[0m \u001b[32m7.8/7.8 MB\u001b[0m \u001b[31m102.3 MB/s\u001b[0m eta \u001b[36m0:00:00\u001b[0m\n",
            "\u001b[2K     \u001b[90m━━━━━━━━━━━━━━━━━━━━━━━━━━━━━━━━━━━━━━━\u001b[0m \u001b[32m114.5/114.5 kB\u001b[0m \u001b[31m9.6 MB/s\u001b[0m eta \u001b[36m0:00:00\u001b[0m\n",
            "\u001b[2K     \u001b[90m━━━━━━━━━━━━━━━━━━━━━━━━━━━━━━━━━━━━━━\u001b[0m \u001b[32m268.8/268.8 kB\u001b[0m \u001b[31m27.2 MB/s\u001b[0m eta \u001b[36m0:00:00\u001b[0m\n",
            "\u001b[2K     \u001b[90m━━━━━━━━━━━━━━━━━━━━━━━━━━━━━━━━━━━━━━\u001b[0m \u001b[32m149.6/149.6 kB\u001b[0m \u001b[31m16.5 MB/s\u001b[0m eta \u001b[36m0:00:00\u001b[0m\n",
            "\u001b[?25h\u001b[31mERROR: pip's dependency resolver does not currently take into account all the packages that are installed. This behaviour is the source of the following dependency conflicts.\n",
            "torchaudio 2.0.1+cu118 requires torch==2.0.0, but you have torch 1.12.1 which is incompatible.\n",
            "torchdata 0.6.0 requires torch==2.0.0, but you have torch 1.12.1 which is incompatible.\n",
            "torchtext 0.15.1 requires torch==2.0.0, but you have torch 1.12.1 which is incompatible.\n",
            "torchvision 0.15.1+cu118 requires torch==2.0.0, but you have torch 1.12.1 which is incompatible.\u001b[0m\u001b[31m\n",
            "\u001b[0m"
          ]
        }
      ],
      "source": [
        "!pip install huggingsound -q"
      ]
    },
    {
      "cell_type": "code",
      "execution_count": null,
      "metadata": {
        "id": "nVwrXjw7EGbz"
      },
      "outputs": [],
      "source": [
        "from huggingsound import SpeechRecognitionModel"
      ]
    },
    {
      "cell_type": "code",
      "execution_count": null,
      "metadata": {
        "id": "CIqpXR8YEKXV"
      },
      "outputs": [],
      "source": [
        "import torch\n",
        "device=\"cuda\" if torch.cuda.is_available() else \"cpu\""
      ]
    },
    {
      "cell_type": "code",
      "execution_count": null,
      "metadata": {
        "colab": {
          "base_uri": "https://localhost:8080/",
          "height": 35
        },
        "id": "4MZfZj1cENc1",
        "outputId": "43180603-6a9c-4971-b502-2ec500b0b990"
      },
      "outputs": [
        {
          "data": {
            "application/vnd.google.colaboratory.intrinsic+json": {
              "type": "string"
            },
            "text/plain": [
              "'cpu'"
            ]
          },
          "execution_count": 10,
          "metadata": {},
          "output_type": "execute_result"
        }
      ],
      "source": [
        "device"
      ]
    },
    {
      "cell_type": "code",
      "execution_count": null,
      "metadata": {
        "colab": {
          "base_uri": "https://localhost:8080/",
          "height": 194,
          "referenced_widgets": [
            "46c5e77fce884bf6be4d84cdda1a49d6",
            "216aa13db8ff4b26ae0f1b0721da536f",
            "b590cb30adb54b69b5b594fef4709286",
            "e0b3ecad033e425e9d85b1ac85cf40ee",
            "4920af9598c34aeb93885291d6e89869",
            "89e50eec69ce4c8798f842f5740a7b6d",
            "f080bf7ecb9744f288218e7c1654f3a8",
            "a645fe59bdfb477d8d3e3a470205932a",
            "1da9a1b684444d53a15119d1f1a1d168",
            "6e862ba363bd4e98bd546b2386991820",
            "23fe4fcc0ed94da585e3451b09c8610a",
            "95517dee222247fbbea68a9d4f7708d2",
            "b208f46209ef442da02b40c3db0a9431",
            "8894ad8a37fa4950b657a2bc77a26cf1",
            "ecb0d59002364ed8aa2f8f4be1050623",
            "f43fa0b7983e46e585e6056cf1f23793",
            "f739d9e00b9447feaac37e62c95a927c",
            "693f6322972b401796cec72e53e54f1f",
            "6cfc0116d821403f86c63665d8126cda",
            "b06daacb06eb424b9a4ff930fd719e2b",
            "a6e6415e6710410293c3520824e1d729",
            "e4acda30c087431d9d38047ef7912090",
            "8c1038421df34dffbbfe1e027c199932",
            "c3571a671c4f47d4a179b65c84f3bdb1",
            "1324559c33b640858e27b5c557129c7a",
            "82b1b276a0384f14afad1e834289e774",
            "9815f27063ae4aa5ac66ad376279235e",
            "7febe644c6ca4718b480f33eb204eaaf",
            "bc26ee53ef9d4d1593b585241cf721fa",
            "830b636e8a0b419390f50c577aded8b0",
            "521284ff6f5f43a7932308a0e792fc6f",
            "240107c0ab2c4af1a0c00ad864f4465e",
            "4a74c554fbd54e3ebeff64acc79f650f",
            "f7889440197646d2b33becf57372dd45",
            "992efb09df884352a5c1206c5c864ec2",
            "38b48f4c31c7495484e8390053434ced",
            "698fd95cb48d417d94e132f41fd92a4a",
            "7622cda83e7244febdd4315e08337523",
            "1d06b9d4ea764cadb5b4cb5dd7a8d39f",
            "f12c2f07b0494b81a1c5fe1f7ade1ce2",
            "d2109e2b457146e088d41fdba0a4907f",
            "38b340ac03374c60b301c3c3becb6932",
            "f6a6e724492a4f80b965f9b40346667a",
            "0c60cf522a014b7284f846817e65429f",
            "27bc8406242343e6bf6500adff0267af",
            "296f917dfcc84c43b00c086688d96a21",
            "990df190c4b84b26b0825e7b0534cdc6",
            "a1c0858b959948f48110cc26dc2a4b01",
            "168ffff46f684ca59cd2deafeeb335a2",
            "4e4cae1e5fa64d8aaaa0f7d1b3ba7768",
            "583e017ec66b49c4b94ccbc4f6b23776",
            "884f88afa04d4b59a00dbe3a5d08d57b",
            "611941a48d29470cb8f4de2b7f8bfe51",
            "65d4cb43cda14bebadc4cab63a3d7d8c",
            "2c2fb79ecbd44b54b6d8139d00411939"
          ]
        },
        "id": "hz1lMeiuEP1d",
        "outputId": "a13f639e-f68a-429c-abed-8a45ef666ae1"
      },
      "outputs": [
        {
          "name": "stderr",
          "output_type": "stream",
          "text": [
            "INFO:huggingsound.speech_recognition.model:Loading model...\n"
          ]
        },
        {
          "data": {
            "application/vnd.jupyter.widget-view+json": {
              "model_id": "46c5e77fce884bf6be4d84cdda1a49d6",
              "version_major": 2,
              "version_minor": 0
            },
            "text/plain": [
              "Downloading (…)lve/main/config.json:   0%|          | 0.00/1.53k [00:00<?, ?B/s]"
            ]
          },
          "metadata": {},
          "output_type": "display_data"
        },
        {
          "data": {
            "application/vnd.jupyter.widget-view+json": {
              "model_id": "95517dee222247fbbea68a9d4f7708d2",
              "version_major": 2,
              "version_minor": 0
            },
            "text/plain": [
              "Downloading pytorch_model.bin:   0%|          | 0.00/1.26G [00:00<?, ?B/s]"
            ]
          },
          "metadata": {},
          "output_type": "display_data"
        },
        {
          "data": {
            "application/vnd.jupyter.widget-view+json": {
              "model_id": "8c1038421df34dffbbfe1e027c199932",
              "version_major": 2,
              "version_minor": 0
            },
            "text/plain": [
              "Downloading (…)rocessor_config.json:   0%|          | 0.00/262 [00:00<?, ?B/s]"
            ]
          },
          "metadata": {},
          "output_type": "display_data"
        },
        {
          "data": {
            "application/vnd.jupyter.widget-view+json": {
              "model_id": "f7889440197646d2b33becf57372dd45",
              "version_major": 2,
              "version_minor": 0
            },
            "text/plain": [
              "Downloading (…)olve/main/vocab.json:   0%|          | 0.00/300 [00:00<?, ?B/s]"
            ]
          },
          "metadata": {},
          "output_type": "display_data"
        },
        {
          "data": {
            "application/vnd.jupyter.widget-view+json": {
              "model_id": "27bc8406242343e6bf6500adff0267af",
              "version_major": 2,
              "version_minor": 0
            },
            "text/plain": [
              "Downloading (…)cial_tokens_map.json:   0%|          | 0.00/85.0 [00:00<?, ?B/s]"
            ]
          },
          "metadata": {},
          "output_type": "display_data"
        }
      ],
      "source": [
        "model=SpeechRecognitionModel(\"jonatasgrosman/wav2vec2-large-xlsr-53-english\", device=device)"
      ]
    },
    {
      "cell_type": "code",
      "execution_count": null,
      "metadata": {
        "id": "_XRIiYNmERtx"
      },
      "outputs": [],
      "source": [
        "#AUDIO CHUNKING\n",
        "import librosa"
      ]
    },
    {
      "cell_type": "code",
      "execution_count": null,
      "metadata": {
        "colab": {
          "base_uri": "https://localhost:8080/"
        },
        "id": "4Tudidr-EVVy",
        "outputId": "af52bd81-d4be-4598-c894-9d8d053a8d48"
      },
      "outputs": [
        {
          "name": "stdout",
          "output_type": "stream",
          "text": [
            "ffmpeg version 4.2.7-0ubuntu0.1 Copyright (c) 2000-2022 the FFmpeg developers\n",
            "  built with gcc 9 (Ubuntu 9.4.0-1ubuntu1~20.04.1)\n",
            "  configuration: --prefix=/usr --extra-version=0ubuntu0.1 --toolchain=hardened --libdir=/usr/lib/x86_64-linux-gnu --incdir=/usr/include/x86_64-linux-gnu --arch=amd64 --enable-gpl --disable-stripping --enable-avresample --disable-filter=resample --enable-avisynth --enable-gnutls --enable-ladspa --enable-libaom --enable-libass --enable-libbluray --enable-libbs2b --enable-libcaca --enable-libcdio --enable-libcodec2 --enable-libflite --enable-libfontconfig --enable-libfreetype --enable-libfribidi --enable-libgme --enable-libgsm --enable-libjack --enable-libmp3lame --enable-libmysofa --enable-libopenjpeg --enable-libopenmpt --enable-libopus --enable-libpulse --enable-librsvg --enable-librubberband --enable-libshine --enable-libsnappy --enable-libsoxr --enable-libspeex --enable-libssh --enable-libtheora --enable-libtwolame --enable-libvidstab --enable-libvorbis --enable-libvpx --enable-libwavpack --enable-libwebp --enable-libx265 --enable-libxml2 --enable-libxvid --enable-libzmq --enable-libzvbi --enable-lv2 --enable-omx --enable-openal --enable-opencl --enable-opengl --enable-sdl2 --enable-libdc1394 --enable-libdrm --enable-libiec61883 --enable-nvenc --enable-chromaprint --enable-frei0r --enable-libx264 --enable-shared\n",
            "  libavutil      56. 31.100 / 56. 31.100\n",
            "  libavcodec     58. 54.100 / 58. 54.100\n",
            "  libavformat    58. 29.100 / 58. 29.100\n",
            "  libavdevice    58.  8.100 / 58.  8.100\n",
            "  libavfilter     7. 57.100 /  7. 57.100\n",
            "  libavresample   4.  0.  0 /  4.  0.  0\n",
            "  libswscale      5.  5.100 /  5.  5.100\n",
            "  libswresample   3.  5.100 /  3.  5.100\n",
            "  libpostproc    55.  5.100 / 55.  5.100\n",
            "\u001b[0;33mGuessed Channel Layout for Input Stream #0.0 : stereo\n",
            "\u001b[0mInput #0, wav, from 'converted_to_wav_file.wav':\n",
            "  Metadata:\n",
            "    encoder         : Lavf58.29.100\n",
            "  Duration: 00:12:10.45, bitrate: 1411 kb/s\n",
            "    Stream #0:0: Audio: pcm_s16le ([1][0][0][0] / 0x0001), 44100 Hz, stereo, s16, 1411 kb/s\n",
            "Stream mapping:\n",
            "  Stream #0:0 -> #0:0 (pcm_s16le (native) -> pcm_s16le (native))\n",
            "Press [q] to stop, [?] for help\n",
            "Output #0, wav, to 'ytaudio.wav':\n",
            "  Metadata:\n",
            "    ISFT            : Lavf58.29.100\n",
            "    Stream #0:0: Audio: pcm_s16le ([1][0][0][0] / 0x0001), 16000 Hz, stereo, s16, 512 kb/s\n",
            "    Metadata:\n",
            "      encoder         : Lavc58.54.100 pcm_s16le\n",
            "size=   45653kB time=00:12:10.45 bitrate= 512.0kbits/s speed= 538x    \n",
            "video:0kB audio:45653kB subtitle:0kB other streams:0kB global headers:0kB muxing overhead: 0.000167%\n"
          ]
        }
      ],
      "source": [
        "#Downsampling\n",
        "! ffmpeg -i converted_to_wav_file.wav -acodec pcm_s16le -ar 16000 ytaudio.wav"
      ]
    },
    {
      "cell_type": "code",
      "execution_count": null,
      "metadata": {
        "id": "SjhqmOPaEank"
      },
      "outputs": [],
      "source": [
        "inp_file=\"/content/ytaudio.wav\""
      ]
    },
    {
      "cell_type": "code",
      "execution_count": null,
      "metadata": {
        "colab": {
          "base_uri": "https://localhost:8080/"
        },
        "id": "aP05q3CsEc4C",
        "outputId": "16561f24-82e3-4a9f-d6bf-c42f3dd22ab1"
      },
      "outputs": [
        {
          "name": "stdout",
          "output_type": "stream",
          "text": [
            "16000\n"
          ]
        }
      ],
      "source": [
        "print(librosa.get_samplerate(inp_file))\n",
        "stream=librosa.stream(\n",
        "    inp_file,\n",
        "    block_length=30,\n",
        "    frame_length=16000,\n",
        "    hop_length=16000\n",
        ")"
      ]
    },
    {
      "cell_type": "code",
      "execution_count": null,
      "metadata": {
        "id": "4vxez8tMEgje"
      },
      "outputs": [],
      "source": [
        "import soundfile as sf"
      ]
    },
    {
      "cell_type": "code",
      "execution_count": null,
      "metadata": {
        "id": "HXmU0EesEi7s"
      },
      "outputs": [],
      "source": [
        "for i,speech in enumerate(stream):\n",
        "  sf.write(f'{i}.wav',speech,16000)"
      ]
    },
    {
      "cell_type": "code",
      "execution_count": null,
      "metadata": {
        "id": "PN80ZgrAEmga"
      },
      "outputs": [],
      "source": [
        "#AUDIO TRANSCRIPTION/ASR/CHUNK TRANSCRIPTION\n",
        "audio_path=[]\n",
        "for a in range(i+1):\n",
        "  audio_path.append(f'/content/{a}.wav')"
      ]
    },
    {
      "cell_type": "code",
      "execution_count": null,
      "metadata": {
        "colab": {
          "base_uri": "https://localhost:8080/"
        },
        "id": "mpEu0y6tEoc2",
        "outputId": "62caaa66-9676-4b68-fc38-9c35216fd10c"
      },
      "outputs": [
        {
          "data": {
            "text/plain": [
              "['/content/0.wav',\n",
              " '/content/1.wav',\n",
              " '/content/2.wav',\n",
              " '/content/3.wav',\n",
              " '/content/4.wav',\n",
              " '/content/5.wav',\n",
              " '/content/6.wav',\n",
              " '/content/7.wav',\n",
              " '/content/8.wav',\n",
              " '/content/9.wav',\n",
              " '/content/10.wav',\n",
              " '/content/11.wav',\n",
              " '/content/12.wav',\n",
              " '/content/13.wav',\n",
              " '/content/14.wav',\n",
              " '/content/15.wav',\n",
              " '/content/16.wav',\n",
              " '/content/17.wav',\n",
              " '/content/18.wav',\n",
              " '/content/19.wav',\n",
              " '/content/20.wav',\n",
              " '/content/21.wav',\n",
              " '/content/22.wav',\n",
              " '/content/23.wav',\n",
              " '/content/24.wav']"
            ]
          },
          "execution_count": 19,
          "metadata": {},
          "output_type": "execute_result"
        }
      ],
      "source": [
        "audio_path"
      ]
    },
    {
      "cell_type": "code",
      "execution_count": null,
      "metadata": {
        "colab": {
          "base_uri": "https://localhost:8080/"
        },
        "id": "UpiNYv5QEqPf",
        "outputId": "315c8515-930d-4b76-c22b-51c74b8d2e14"
      },
      "outputs": [
        {
          "data": {
            "text/plain": [
              "24"
            ]
          },
          "execution_count": 20,
          "metadata": {},
          "output_type": "execute_result"
        }
      ],
      "source": [
        "i"
      ]
    },
    {
      "cell_type": "code",
      "execution_count": null,
      "metadata": {
        "colab": {
          "background_save": true,
          "base_uri": "https://localhost:8080/"
        },
        "id": "8BgY8bvQEtKg",
        "outputId": "d2405e1c-1f48-4a78-d73f-ff71affb430e"
      },
      "outputs": [
        {
          "name": "stderr",
          "output_type": "stream",
          "text": [
            "100%|██████████| 25/25 [14:59<00:00, 35.97s/it]\n"
          ]
        }
      ],
      "source": [
        "transcriptions=model.transcribe(audio_path)"
      ]
    },
    {
      "cell_type": "code",
      "execution_count": null,
      "metadata": {
        "id": "Uixd0DdaEu_z"
      },
      "outputs": [],
      "source": [
        "full_transcript=' '"
      ]
    },
    {
      "cell_type": "code",
      "execution_count": null,
      "metadata": {
        "id": "zimvavRUEwxC"
      },
      "outputs": [],
      "source": [
        "for item in transcriptions:\n",
        "  full_transcript+=''.join(item['transcription'])"
      ]
    },
    {
      "cell_type": "code",
      "execution_count": null,
      "metadata": {
        "colab": {
          "base_uri": "https://localhost:8080/",
          "height": 174
        },
        "id": "0QjvwZ7wE3oZ",
        "outputId": "b4fe0676-c74a-4a61-81f3-c50344ed5bce"
      },
      "outputs": [
        {
          "data": {
            "application/vnd.google.colaboratory.intrinsic+json": {
              "type": "string"
            },
            "text/plain": [
              "\" hegays welcomein todi's digital world data is more valuable than ever perform data is the key to the smooth functioning of everything from a government to a local companythe success of her company vistly depends on how well they utilize their datathis is where database constitu picture you need a databased store datain this video lets learn what is database and different types of database available todaybutbefore we talk about database it is important to understand datadata data can anything and everything -any information or fact can be considered as data your name age date-of-birth or any other information such as you house address your bank balance the vehicle you drive or even the food that you eat can be considered as datadetails related to a school ora technology or statistics or even mathematics can be considered as data and can be stoed int a databasedata can be in any form such as image or a video or a phile or even a plain text data in any of these format can be stored into a databasefor a school data can be details related to its teacherts or its students or the subjects they teachall of these can be data as you can see data can be anything and everything and data can any formnow that you know what data is it's time to understand where to we store them and the purpose of storing themwhat is database database can be considered as a container filled with data or information which is electronically stored in a computer systemdata in any form can be storedinto the database the purpose of storing the data into te database is so it can be easily accessed modified protected and analyzedyou may already be using database in yor day activities because most of the websites or mobile applications today such as coogle instagram wordsap facebook already used database to store dataas an example let see for your college demo project you plan to develop a simple college timesheet web applibasically this application should elop you to locking through a uarel and then have options to enter staff details timesheet details student attendants student marks since this is a college demo project you may just use your personal computer to develop this project the first thing your application will need is a database to store and retrieve the datahence you need to first install a database on your laktop which will connect toimesheet applicationlike any other software installed on your computer database software will lso be elocated to a specific location in your computer harddrivethrough your web application whenever you try to save edit or retrieve information the application will actually connect database to store modify or extract a datain other words any information that is shown in your application is actually being recluwed from the database and any information you ener in the application will actually be stored into the databasebut since the database is installed on your computer the data is actually being stored into a computer memorythis is a simple example of howan application uses a small database to store modify and retieve datawhen it comes to bigger applications or bigger companies they need huge database to store huge data which may be installed on large serversthis is true to any application that uses a databaseimages videos or post or any other information that you see on facebook is actually stored in a database and whenever you search for a specific post or friend facebook actually searches for this data in its databaseso eas database same as dibiameslot of people refer to database as dibiames but that's not entirely correct because database is just a container that stores data whereas dibmes or database management system is a software which is used to manage your databaseyou need dbms to interact with the database to store modify retrieve and protect datadebames is also required to create modify and delete database users like you and me can use dibiames to entercommand in a specific language to interact with the databseexamples of dbms can be myescuel poscreescuel mongo dib neophog-casandra sevolution of database started in nineteensixties when the first type of database were made which was the flat-file database ethe data was stored in simple files such as siasfyfile or fixland file later on came the hierarchical database and then the network database both of these database stored data through varentild relationship but both of these database were incapable of storing complex data-reationships hence versuneplaced by relational databasefis forward to two thowsand twenty in todays world there are mainly two popular database types relational database and non-relationaldatabase as for the usage over seventy-four percent of th database used today are relational database but due to invent-raising data usage over the past decade mainly due to social media platforms non-relational database have become very popular however the biggest companies todaydata related to millions of users every day generally use combination of both relational and non-relational database hence both these database types are very popular and widely usedorecl is the most widely used relational database whereas mongodeb is the most widely used non-relational database let'us briefly locate each of these databased typesrelational database in a relational database data is stored through collection of tablesthese staples are related to one anothereach table consists of columns andros each column has a name and a datatype datatype can be seaid as a data rule which is associated to every column only those data that satisfy this data rules can be inserted in the specific columna role can be treated as a record which is formed by single or multiple columnsas an example considered an officabsit will have information related to employees managers and departmentsthese details are stored in different tables but these staples will be related to each other through certain colunshere employee and manager table is related through the manager ide column which is present in both these stables in a relational database foreign key constaint is used to form relation between different tablessimilarly manager and department tables are related through the departmentdy coloras you can see employee and department table are not directly related to each other but still it is possible to fetch data from te employee table based on specific conditions from  department table this is how relational database works information is scattered across multiple tables which are related to one another hence using table relations it is possible to recieve data from different tablesin  relationaldatabase using dbms you can enter commands and specificc language store retrieve and modified datathis specific language is escuell or structured qurie languageescuell is a programming language which follows a standard format for qerrying data across different relational databasemost of financial institutions such as bank or insurance companies use relational databaseexamples of relational database are rcl myescuel microsoft escuel server oscueescuelnon-relational database when it comes to a non-relational database there are several categories of database such as keyvalue store document database graph database white column database search engine database time-series database each of these database store data differently and are useful for managing specific types of data let's briefly locate a few of themkeyvalue databasecalled keyvalue storeit is the simplest of the non-relational database and as the names suggest every data-stored in this database will be assigned to a keyto stole data we provide a key and a blob of data such as an image textphile jason object aonce saved to retrieve the data just provide the keykey-value database are very useful to store certain types of data such as configuration data state information or any datathat might be represented by a dictionary or hashina programming languageexamples can breadidatabase memcash database document database also called as document store thee aso use unique key to identify data-storeng database however unlike kevalue store document database store data-in structured format called documents often using jason bisan or examal formatthough each document within this database has structured data there is no specific format to be followed for all documents each document can have its own structure which the database understands so unlike keyvalue store the data-storin document database can be quedied and analyzedexamples can be longo cultragraph database graft database falls under the bracket of non-relational databasean follows a different approach to forming relationships between datarather than using tables and foreignteys to form relation graft database from relation by using notes edges and propertiesdata is represented through individual notes and each note can have multiple propertiesbetween these notes edges or relationships are established to represent different types of connectionshence in a graph database data is toed as notand relationships are represented through edges if yor working with data where relationships or connections between data are most important than graft databaserit choicegraft database is useful when searching or specific pattern like fraud detection to monylundering transactions example can be neofoge databasewhite column database also known as column family database white column database stor daata using rowsed columns but they do not use staples instead of tables they use structure collless column families column families contain rows of data where each row has its own structure or schemaeach row comprises of unique row identifier and serts of column names and valueseach ro can have a different number of columns with different types of dataexamples can be casandra hbase ectraeetenteeten te e te ligmomision af te later aset\""
            ]
          },
          "execution_count": 27,
          "metadata": {},
          "output_type": "execute_result"
        }
      ],
      "source": [
        "full_transcript"
      ]
    },
    {
      "cell_type": "markdown",
      "metadata": {
        "id": "y3mqpyCeIJXc"
      },
      "source": [
        "EXTRACTIVE TEXT SUMMARIZATION"
      ]
    },
    {
      "cell_type": "code",
      "execution_count": null,
      "metadata": {
        "id": "WQbx-e9eINcz"
      },
      "outputs": [],
      "source": [
        "import spacy\n",
        "from spacy.lang.en.stop_words import STOP_WORDS\n",
        "from string import punctuation"
      ]
    },
    {
      "cell_type": "code",
      "execution_count": null,
      "metadata": {
        "id": "WZ3Ea7s5IW7a"
      },
      "outputs": [],
      "source": [
        "stopwords = list(STOP_WORDS)"
      ]
    },
    {
      "cell_type": "code",
      "execution_count": null,
      "metadata": {
        "id": "Dz8ZBHvzIYpN"
      },
      "outputs": [],
      "source": [
        "# create the NLP model by calling en_core_web_sn\n",
        "nlp = spacy.load('en_core_web_sm')"
      ]
    },
    {
      "cell_type": "code",
      "execution_count": null,
      "metadata": {
        "id": "0iCIwxWoId8D"
      },
      "outputs": [],
      "source": [
        "doc = nlp(full_transcript)\n",
        "#here we get the tokenized sentences and tokenized words in the doc"
      ]
    },
    {
      "cell_type": "code",
      "execution_count": null,
      "metadata": {
        "colab": {
          "base_uri": "https://localhost:8080/"
        },
        "id": "HHrpi_ODIij6",
        "outputId": "efa2ed09-6c57-477a-825f-11f7b532bf40"
      },
      "outputs": [
        {
          "data": {
            "text/plain": [
              "[' ',\n",
              " 'hegays',\n",
              " 'welcomein',\n",
              " 'todi',\n",
              " \"'s\",\n",
              " 'digital',\n",
              " 'world',\n",
              " 'data',\n",
              " 'is',\n",
              " 'more',\n",
              " 'valuable',\n",
              " 'than',\n",
              " 'ever',\n",
              " 'perform',\n",
              " 'data',\n",
              " 'is',\n",
              " 'the',\n",
              " 'key',\n",
              " 'to',\n",
              " 'the',\n",
              " 'smooth',\n",
              " 'functioning',\n",
              " 'of',\n",
              " 'everything',\n",
              " 'from',\n",
              " 'a',\n",
              " 'government',\n",
              " 'to',\n",
              " 'a',\n",
              " 'local',\n",
              " 'companythe',\n",
              " 'success',\n",
              " 'of',\n",
              " 'her',\n",
              " 'company',\n",
              " 'vistly',\n",
              " 'depends',\n",
              " 'on',\n",
              " 'how',\n",
              " 'well',\n",
              " 'they',\n",
              " 'utilize',\n",
              " 'their',\n",
              " 'datathis',\n",
              " 'is',\n",
              " 'where',\n",
              " 'database',\n",
              " 'constitu',\n",
              " 'picture',\n",
              " 'you',\n",
              " 'need',\n",
              " 'a',\n",
              " 'databased',\n",
              " 'store',\n",
              " 'datain',\n",
              " 'this',\n",
              " 'video',\n",
              " 'lets',\n",
              " 'learn',\n",
              " 'what',\n",
              " 'is',\n",
              " 'database',\n",
              " 'and',\n",
              " 'different',\n",
              " 'types',\n",
              " 'of',\n",
              " 'database',\n",
              " 'available',\n",
              " 'todaybutbefore',\n",
              " 'we',\n",
              " 'talk',\n",
              " 'about',\n",
              " 'database',\n",
              " 'it',\n",
              " 'is',\n",
              " 'important',\n",
              " 'to',\n",
              " 'understand',\n",
              " 'datadata',\n",
              " 'data',\n",
              " 'can',\n",
              " 'anything',\n",
              " 'and',\n",
              " 'everything',\n",
              " '-any',\n",
              " 'information',\n",
              " 'or',\n",
              " 'fact',\n",
              " 'can',\n",
              " 'be',\n",
              " 'considered',\n",
              " 'as',\n",
              " 'data',\n",
              " 'your',\n",
              " 'name',\n",
              " 'age',\n",
              " 'date',\n",
              " '-',\n",
              " 'of',\n",
              " '-',\n",
              " 'birth',\n",
              " 'or',\n",
              " 'any',\n",
              " 'other',\n",
              " 'information',\n",
              " 'such',\n",
              " 'as',\n",
              " 'you',\n",
              " 'house',\n",
              " 'address',\n",
              " 'your',\n",
              " 'bank',\n",
              " 'balance',\n",
              " 'the',\n",
              " 'vehicle',\n",
              " 'you',\n",
              " 'drive',\n",
              " 'or',\n",
              " 'even',\n",
              " 'the',\n",
              " 'food',\n",
              " 'that',\n",
              " 'you',\n",
              " 'eat',\n",
              " 'can',\n",
              " 'be',\n",
              " 'considered',\n",
              " 'as',\n",
              " 'datadetails',\n",
              " 'related',\n",
              " 'to',\n",
              " 'a',\n",
              " 'school',\n",
              " 'ora',\n",
              " 'technology',\n",
              " 'or',\n",
              " 'statistics',\n",
              " 'or',\n",
              " 'even',\n",
              " 'mathematics',\n",
              " 'can',\n",
              " 'be',\n",
              " 'considered',\n",
              " 'as',\n",
              " 'data',\n",
              " 'and',\n",
              " 'can',\n",
              " 'be',\n",
              " 'stoed',\n",
              " 'int',\n",
              " 'a',\n",
              " 'databasedata',\n",
              " 'can',\n",
              " 'be',\n",
              " 'in',\n",
              " 'any',\n",
              " 'form',\n",
              " 'such',\n",
              " 'as',\n",
              " 'image',\n",
              " 'or',\n",
              " 'a',\n",
              " 'video',\n",
              " 'or',\n",
              " 'a',\n",
              " 'phile',\n",
              " 'or',\n",
              " 'even',\n",
              " 'a',\n",
              " 'plain',\n",
              " 'text',\n",
              " 'data',\n",
              " 'in',\n",
              " 'any',\n",
              " 'of',\n",
              " 'these',\n",
              " 'format',\n",
              " 'can',\n",
              " 'be',\n",
              " 'stored',\n",
              " 'into',\n",
              " 'a',\n",
              " 'databasefor',\n",
              " 'a',\n",
              " 'school',\n",
              " 'data',\n",
              " 'can',\n",
              " 'be',\n",
              " 'details',\n",
              " 'related',\n",
              " 'to',\n",
              " 'its',\n",
              " 'teacherts',\n",
              " 'or',\n",
              " 'its',\n",
              " 'students',\n",
              " 'or',\n",
              " 'the',\n",
              " 'subjects',\n",
              " 'they',\n",
              " 'teachall',\n",
              " 'of',\n",
              " 'these',\n",
              " 'can',\n",
              " 'be',\n",
              " 'data',\n",
              " 'as',\n",
              " 'you',\n",
              " 'can',\n",
              " 'see',\n",
              " 'data',\n",
              " 'can',\n",
              " 'be',\n",
              " 'anything',\n",
              " 'and',\n",
              " 'everything',\n",
              " 'and',\n",
              " 'data',\n",
              " 'can',\n",
              " 'any',\n",
              " 'formnow',\n",
              " 'that',\n",
              " 'you',\n",
              " 'know',\n",
              " 'what',\n",
              " 'data',\n",
              " 'is',\n",
              " 'it',\n",
              " \"'s\",\n",
              " 'time',\n",
              " 'to',\n",
              " 'understand',\n",
              " 'where',\n",
              " 'to',\n",
              " 'we',\n",
              " 'store',\n",
              " 'them',\n",
              " 'and',\n",
              " 'the',\n",
              " 'purpose',\n",
              " 'of',\n",
              " 'storing',\n",
              " 'themwhat',\n",
              " 'is',\n",
              " 'database',\n",
              " 'database',\n",
              " 'can',\n",
              " 'be',\n",
              " 'considered',\n",
              " 'as',\n",
              " 'a',\n",
              " 'container',\n",
              " 'filled',\n",
              " 'with',\n",
              " 'data',\n",
              " 'or',\n",
              " 'information',\n",
              " 'which',\n",
              " 'is',\n",
              " 'electronically',\n",
              " 'stored',\n",
              " 'in',\n",
              " 'a',\n",
              " 'computer',\n",
              " 'systemdata',\n",
              " 'in',\n",
              " 'any',\n",
              " 'form',\n",
              " 'can',\n",
              " 'be',\n",
              " 'storedinto',\n",
              " 'the',\n",
              " 'database',\n",
              " 'the',\n",
              " 'purpose',\n",
              " 'of',\n",
              " 'storing',\n",
              " 'the',\n",
              " 'data',\n",
              " 'into',\n",
              " 'te',\n",
              " 'database',\n",
              " 'is',\n",
              " 'so',\n",
              " 'it',\n",
              " 'can',\n",
              " 'be',\n",
              " 'easily',\n",
              " 'accessed',\n",
              " 'modified',\n",
              " 'protected',\n",
              " 'and',\n",
              " 'analyzedyou',\n",
              " 'may',\n",
              " 'already',\n",
              " 'be',\n",
              " 'using',\n",
              " 'database',\n",
              " 'in',\n",
              " 'yor',\n",
              " 'day',\n",
              " 'activities',\n",
              " 'because',\n",
              " 'most',\n",
              " 'of',\n",
              " 'the',\n",
              " 'websites',\n",
              " 'or',\n",
              " 'mobile',\n",
              " 'applications',\n",
              " 'today',\n",
              " 'such',\n",
              " 'as',\n",
              " 'coogle',\n",
              " 'instagram',\n",
              " 'wordsap',\n",
              " 'facebook',\n",
              " 'already',\n",
              " 'used',\n",
              " 'database',\n",
              " 'to',\n",
              " 'store',\n",
              " 'dataas',\n",
              " 'an',\n",
              " 'example',\n",
              " 'let',\n",
              " 'see',\n",
              " 'for',\n",
              " 'your',\n",
              " 'college',\n",
              " 'demo',\n",
              " 'project',\n",
              " 'you',\n",
              " 'plan',\n",
              " 'to',\n",
              " 'develop',\n",
              " 'a',\n",
              " 'simple',\n",
              " 'college',\n",
              " 'timesheet',\n",
              " 'web',\n",
              " 'applibasically',\n",
              " 'this',\n",
              " 'application',\n",
              " 'should',\n",
              " 'elop',\n",
              " 'you',\n",
              " 'to',\n",
              " 'locking',\n",
              " 'through',\n",
              " 'a',\n",
              " 'uarel',\n",
              " 'and',\n",
              " 'then',\n",
              " 'have',\n",
              " 'options',\n",
              " 'to',\n",
              " 'enter',\n",
              " 'staff',\n",
              " 'details',\n",
              " 'timesheet',\n",
              " 'details',\n",
              " 'student',\n",
              " 'attendants',\n",
              " 'student',\n",
              " 'marks',\n",
              " 'since',\n",
              " 'this',\n",
              " 'is',\n",
              " 'a',\n",
              " 'college',\n",
              " 'demo',\n",
              " 'project',\n",
              " 'you',\n",
              " 'may',\n",
              " 'just',\n",
              " 'use',\n",
              " 'your',\n",
              " 'personal',\n",
              " 'computer',\n",
              " 'to',\n",
              " 'develop',\n",
              " 'this',\n",
              " 'project',\n",
              " 'the',\n",
              " 'first',\n",
              " 'thing',\n",
              " 'your',\n",
              " 'application',\n",
              " 'will',\n",
              " 'need',\n",
              " 'is',\n",
              " 'a',\n",
              " 'database',\n",
              " 'to',\n",
              " 'store',\n",
              " 'and',\n",
              " 'retrieve',\n",
              " 'the',\n",
              " 'datahence',\n",
              " 'you',\n",
              " 'need',\n",
              " 'to',\n",
              " 'first',\n",
              " 'install',\n",
              " 'a',\n",
              " 'database',\n",
              " 'on',\n",
              " 'your',\n",
              " 'laktop',\n",
              " 'which',\n",
              " 'will',\n",
              " 'connect',\n",
              " 'toimesheet',\n",
              " 'applicationlike',\n",
              " 'any',\n",
              " 'other',\n",
              " 'software',\n",
              " 'installed',\n",
              " 'on',\n",
              " 'your',\n",
              " 'computer',\n",
              " 'database',\n",
              " 'software',\n",
              " 'will',\n",
              " 'lso',\n",
              " 'be',\n",
              " 'elocated',\n",
              " 'to',\n",
              " 'a',\n",
              " 'specific',\n",
              " 'location',\n",
              " 'in',\n",
              " 'your',\n",
              " 'computer',\n",
              " 'harddrivethrough',\n",
              " 'your',\n",
              " 'web',\n",
              " 'application',\n",
              " 'whenever',\n",
              " 'you',\n",
              " 'try',\n",
              " 'to',\n",
              " 'save',\n",
              " 'edit',\n",
              " 'or',\n",
              " 'retrieve',\n",
              " 'information',\n",
              " 'the',\n",
              " 'application',\n",
              " 'will',\n",
              " 'actually',\n",
              " 'connect',\n",
              " 'database',\n",
              " 'to',\n",
              " 'store',\n",
              " 'modify',\n",
              " 'or',\n",
              " 'extract',\n",
              " 'a',\n",
              " 'datain',\n",
              " 'other',\n",
              " 'words',\n",
              " 'any',\n",
              " 'information',\n",
              " 'that',\n",
              " 'is',\n",
              " 'shown',\n",
              " 'in',\n",
              " 'your',\n",
              " 'application',\n",
              " 'is',\n",
              " 'actually',\n",
              " 'being',\n",
              " 'recluwed',\n",
              " 'from',\n",
              " 'the',\n",
              " 'database',\n",
              " 'and',\n",
              " 'any',\n",
              " 'information',\n",
              " 'you',\n",
              " 'ener',\n",
              " 'in',\n",
              " 'the',\n",
              " 'application',\n",
              " 'will',\n",
              " 'actually',\n",
              " 'be',\n",
              " 'stored',\n",
              " 'into',\n",
              " 'the',\n",
              " 'databasebut',\n",
              " 'since',\n",
              " 'the',\n",
              " 'database',\n",
              " 'is',\n",
              " 'installed',\n",
              " 'on',\n",
              " 'your',\n",
              " 'computer',\n",
              " 'the',\n",
              " 'data',\n",
              " 'is',\n",
              " 'actually',\n",
              " 'being',\n",
              " 'stored',\n",
              " 'into',\n",
              " 'a',\n",
              " 'computer',\n",
              " 'memorythis',\n",
              " 'is',\n",
              " 'a',\n",
              " 'simple',\n",
              " 'example',\n",
              " 'of',\n",
              " 'howan',\n",
              " 'application',\n",
              " 'uses',\n",
              " 'a',\n",
              " 'small',\n",
              " 'database',\n",
              " 'to',\n",
              " 'store',\n",
              " 'modify',\n",
              " 'and',\n",
              " 'retieve',\n",
              " 'datawhen',\n",
              " 'it',\n",
              " 'comes',\n",
              " 'to',\n",
              " 'bigger',\n",
              " 'applications',\n",
              " 'or',\n",
              " 'bigger',\n",
              " 'companies',\n",
              " 'they',\n",
              " 'need',\n",
              " 'huge',\n",
              " 'database',\n",
              " 'to',\n",
              " 'store',\n",
              " 'huge',\n",
              " 'data',\n",
              " 'which',\n",
              " 'may',\n",
              " 'be',\n",
              " 'installed',\n",
              " 'on',\n",
              " 'large',\n",
              " 'serversthis',\n",
              " 'is',\n",
              " 'true',\n",
              " 'to',\n",
              " 'any',\n",
              " 'application',\n",
              " 'that',\n",
              " 'uses',\n",
              " 'a',\n",
              " 'databaseimages',\n",
              " 'videos',\n",
              " 'or',\n",
              " 'post',\n",
              " 'or',\n",
              " 'any',\n",
              " 'other',\n",
              " 'information',\n",
              " 'that',\n",
              " 'you',\n",
              " 'see',\n",
              " 'on',\n",
              " 'facebook',\n",
              " 'is',\n",
              " 'actually',\n",
              " 'stored',\n",
              " 'in',\n",
              " 'a',\n",
              " 'database',\n",
              " 'and',\n",
              " 'whenever',\n",
              " 'you',\n",
              " 'search',\n",
              " 'for',\n",
              " 'a',\n",
              " 'specific',\n",
              " 'post',\n",
              " 'or',\n",
              " 'friend',\n",
              " 'facebook',\n",
              " 'actually',\n",
              " 'searches',\n",
              " 'for',\n",
              " 'this',\n",
              " 'data',\n",
              " 'in',\n",
              " 'its',\n",
              " 'databaseso',\n",
              " 'eas',\n",
              " 'database',\n",
              " 'same',\n",
              " 'as',\n",
              " 'dibiameslot',\n",
              " 'of',\n",
              " 'people',\n",
              " 'refer',\n",
              " 'to',\n",
              " 'database',\n",
              " 'as',\n",
              " 'dibiames',\n",
              " 'but',\n",
              " 'that',\n",
              " \"'s\",\n",
              " 'not',\n",
              " 'entirely',\n",
              " 'correct',\n",
              " 'because',\n",
              " 'database',\n",
              " 'is',\n",
              " 'just',\n",
              " 'a',\n",
              " 'container',\n",
              " 'that',\n",
              " 'stores',\n",
              " 'data',\n",
              " 'whereas',\n",
              " 'dibmes',\n",
              " 'or',\n",
              " 'database',\n",
              " 'management',\n",
              " 'system',\n",
              " 'is',\n",
              " 'a',\n",
              " 'software',\n",
              " 'which',\n",
              " 'is',\n",
              " 'used',\n",
              " 'to',\n",
              " 'manage',\n",
              " 'your',\n",
              " 'databaseyou',\n",
              " 'need',\n",
              " 'dbms',\n",
              " 'to',\n",
              " 'interact',\n",
              " 'with',\n",
              " 'the',\n",
              " 'database',\n",
              " 'to',\n",
              " 'store',\n",
              " 'modify',\n",
              " 'retrieve',\n",
              " 'and',\n",
              " 'protect',\n",
              " 'datadebames',\n",
              " 'is',\n",
              " 'also',\n",
              " 'required',\n",
              " 'to',\n",
              " 'create',\n",
              " 'modify',\n",
              " 'and',\n",
              " 'delete',\n",
              " 'database',\n",
              " 'users',\n",
              " 'like',\n",
              " 'you',\n",
              " 'and',\n",
              " 'me',\n",
              " 'can',\n",
              " 'use',\n",
              " 'dibiames',\n",
              " 'to',\n",
              " 'entercommand',\n",
              " 'in',\n",
              " 'a',\n",
              " 'specific',\n",
              " 'language',\n",
              " 'to',\n",
              " 'interact',\n",
              " 'with',\n",
              " 'the',\n",
              " 'databseexamples',\n",
              " 'of',\n",
              " 'dbms',\n",
              " 'can',\n",
              " 'be',\n",
              " 'myescuel',\n",
              " 'poscreescuel',\n",
              " 'mongo',\n",
              " 'dib',\n",
              " 'neophog',\n",
              " '-',\n",
              " 'casandra',\n",
              " 'sevolution',\n",
              " 'of',\n",
              " 'database',\n",
              " 'started',\n",
              " 'in',\n",
              " 'nineteensixties',\n",
              " 'when',\n",
              " 'the',\n",
              " 'first',\n",
              " 'type',\n",
              " 'of',\n",
              " 'database',\n",
              " 'were',\n",
              " 'made',\n",
              " 'which',\n",
              " 'was',\n",
              " 'the',\n",
              " 'flat',\n",
              " '-',\n",
              " 'file',\n",
              " 'database',\n",
              " 'ethe',\n",
              " 'data',\n",
              " 'was',\n",
              " 'stored',\n",
              " 'in',\n",
              " 'simple',\n",
              " 'files',\n",
              " 'such',\n",
              " 'as',\n",
              " 'siasfyfile',\n",
              " 'or',\n",
              " 'fixland',\n",
              " 'file',\n",
              " 'later',\n",
              " 'on',\n",
              " 'came',\n",
              " 'the',\n",
              " 'hierarchical',\n",
              " 'database',\n",
              " 'and',\n",
              " 'then',\n",
              " 'the',\n",
              " 'network',\n",
              " 'database',\n",
              " 'both',\n",
              " 'of',\n",
              " 'these',\n",
              " 'database',\n",
              " 'stored',\n",
              " 'data',\n",
              " 'through',\n",
              " 'varentild',\n",
              " 'relationship',\n",
              " 'but',\n",
              " 'both',\n",
              " 'of',\n",
              " 'these',\n",
              " 'database',\n",
              " 'were',\n",
              " 'incapable',\n",
              " 'of',\n",
              " 'storing',\n",
              " 'complex',\n",
              " 'data',\n",
              " '-',\n",
              " 'reationships',\n",
              " 'hence',\n",
              " 'versuneplaced',\n",
              " 'by',\n",
              " 'relational',\n",
              " 'databasefis',\n",
              " 'forward',\n",
              " 'to',\n",
              " 'two',\n",
              " 'thowsand',\n",
              " 'twenty',\n",
              " 'in',\n",
              " 'todays',\n",
              " 'world',\n",
              " 'there',\n",
              " 'are',\n",
              " 'mainly',\n",
              " 'two',\n",
              " 'popular',\n",
              " 'database',\n",
              " 'types',\n",
              " 'relational',\n",
              " 'database',\n",
              " 'and',\n",
              " 'non',\n",
              " '-',\n",
              " 'relationaldatabase',\n",
              " 'as',\n",
              " 'for',\n",
              " 'the',\n",
              " 'usage',\n",
              " 'over',\n",
              " 'seventy',\n",
              " '-',\n",
              " 'four',\n",
              " 'percent',\n",
              " 'of',\n",
              " 'th',\n",
              " 'database',\n",
              " 'used',\n",
              " 'today',\n",
              " 'are',\n",
              " 'relational',\n",
              " 'database',\n",
              " 'but',\n",
              " 'due',\n",
              " 'to',\n",
              " 'invent',\n",
              " '-',\n",
              " 'raising',\n",
              " 'data',\n",
              " 'usage',\n",
              " 'over',\n",
              " 'the',\n",
              " 'past',\n",
              " 'decade',\n",
              " 'mainly',\n",
              " 'due',\n",
              " 'to',\n",
              " 'social',\n",
              " 'media',\n",
              " 'platforms',\n",
              " 'non',\n",
              " '-',\n",
              " 'relational',\n",
              " 'database',\n",
              " 'have',\n",
              " 'become',\n",
              " 'very',\n",
              " 'popular',\n",
              " 'however',\n",
              " 'the',\n",
              " 'biggest',\n",
              " 'companies',\n",
              " 'todaydata',\n",
              " 'related',\n",
              " 'to',\n",
              " 'millions',\n",
              " 'of',\n",
              " 'users',\n",
              " 'every',\n",
              " 'day',\n",
              " 'generally',\n",
              " 'use',\n",
              " 'combination',\n",
              " 'of',\n",
              " 'both',\n",
              " 'relational',\n",
              " 'and',\n",
              " 'non',\n",
              " '-',\n",
              " 'relational',\n",
              " 'database',\n",
              " 'hence',\n",
              " 'both',\n",
              " 'these',\n",
              " 'database',\n",
              " 'types',\n",
              " 'are',\n",
              " 'very',\n",
              " 'popular',\n",
              " 'and',\n",
              " 'widely',\n",
              " 'usedorecl',\n",
              " 'is',\n",
              " 'the',\n",
              " 'most',\n",
              " 'widely',\n",
              " 'used',\n",
              " 'relational',\n",
              " 'database',\n",
              " 'whereas',\n",
              " 'mongodeb',\n",
              " 'is',\n",
              " 'the',\n",
              " 'most',\n",
              " 'widely',\n",
              " 'used',\n",
              " 'non',\n",
              " '-',\n",
              " 'relational',\n",
              " 'database',\n",
              " \"let'us\",\n",
              " 'briefly',\n",
              " 'locate',\n",
              " 'each',\n",
              " 'of',\n",
              " 'these',\n",
              " 'databased',\n",
              " 'typesrelational',\n",
              " 'database',\n",
              " 'in',\n",
              " 'a',\n",
              " 'relational',\n",
              " 'database',\n",
              " 'data',\n",
              " 'is',\n",
              " 'stored',\n",
              " 'through',\n",
              " 'collection',\n",
              " 'of',\n",
              " 'tablesthese',\n",
              " 'staples',\n",
              " 'are',\n",
              " 'related',\n",
              " 'to',\n",
              " 'one',\n",
              " 'anothereach',\n",
              " 'table',\n",
              " 'consists',\n",
              " 'of',\n",
              " 'columns',\n",
              " 'andros',\n",
              " 'each',\n",
              " 'column',\n",
              " 'has',\n",
              " 'a',\n",
              " 'name',\n",
              " 'and',\n",
              " 'a',\n",
              " 'datatype',\n",
              " 'datatype',\n",
              " 'can',\n",
              " 'be',\n",
              " 'seaid',\n",
              " 'as',\n",
              " 'a',\n",
              " 'data',\n",
              " 'rule',\n",
              " 'which',\n",
              " 'is',\n",
              " 'associated',\n",
              " 'to',\n",
              " 'every',\n",
              " 'column',\n",
              " 'only',\n",
              " 'those',\n",
              " 'data',\n",
              " 'that',\n",
              " 'satisfy',\n",
              " 'this',\n",
              " 'data',\n",
              " 'rules',\n",
              " 'can',\n",
              " 'be',\n",
              " 'inserted',\n",
              " 'in',\n",
              " 'the',\n",
              " 'specific',\n",
              " 'columna',\n",
              " 'role',\n",
              " 'can',\n",
              " 'be',\n",
              " 'treated',\n",
              " 'as',\n",
              " 'a',\n",
              " 'record',\n",
              " 'which',\n",
              " 'is',\n",
              " 'formed',\n",
              " 'by',\n",
              " 'single',\n",
              " 'or',\n",
              " 'multiple',\n",
              " 'columnsas',\n",
              " 'an',\n",
              " 'example',\n",
              " 'considered',\n",
              " 'an',\n",
              " 'officabsit',\n",
              " 'will',\n",
              " 'have',\n",
              " 'information',\n",
              " 'related',\n",
              " 'to',\n",
              " 'employees',\n",
              " 'managers',\n",
              " 'and',\n",
              " 'departmentsthese',\n",
              " 'details',\n",
              " 'are',\n",
              " 'stored',\n",
              " 'in',\n",
              " 'different',\n",
              " 'tables',\n",
              " 'but',\n",
              " 'these',\n",
              " 'staples',\n",
              " 'will',\n",
              " 'be',\n",
              " 'related',\n",
              " 'to',\n",
              " 'each',\n",
              " 'other',\n",
              " 'through',\n",
              " 'certain',\n",
              " 'colunshere',\n",
              " 'employee',\n",
              " 'and',\n",
              " 'manager',\n",
              " 'table',\n",
              " ...]"
            ]
          },
          "execution_count": 32,
          "metadata": {},
          "output_type": "execute_result"
        }
      ],
      "source": [
        "tokens = [token.text for token in doc]\n",
        "tokens"
      ]
    },
    {
      "cell_type": "code",
      "execution_count": null,
      "metadata": {
        "colab": {
          "base_uri": "https://localhost:8080/",
          "height": 35
        },
        "id": "C-H7ckMGIkvf",
        "outputId": "f217c75d-7869-486f-ae7b-cd963bd8401a"
      },
      "outputs": [
        {
          "data": {
            "application/vnd.google.colaboratory.intrinsic+json": {
              "type": "string"
            },
            "text/plain": [
              "'!\"#$%&\\'()*+,-./:;<=>?@[\\\\]^_`{|}~\\n'"
            ]
          },
          "execution_count": 33,
          "metadata": {},
          "output_type": "execute_result"
        }
      ],
      "source": [
        "punctuation = punctuation + '\\n'\n",
        "punctuation"
      ]
    },
    {
      "cell_type": "code",
      "execution_count": null,
      "metadata": {
        "id": "ea9m0YcOIo3R"
      },
      "outputs": [],
      "source": [
        "word_frequencies = {}\n",
        "for word in doc:\n",
        "  if word.text.lower() not in stopwords:\n",
        "    if word.text.lower() not in punctuation:\n",
        "      if word.text not in word_frequencies.keys():\n",
        "        word_frequencies[word.text]=1\n",
        "      else:\n",
        "        word_frequencies[word.text] += 1"
      ]
    },
    {
      "cell_type": "code",
      "execution_count": null,
      "metadata": {
        "colab": {
          "base_uri": "https://localhost:8080/"
        },
        "id": "2v8CpLGhIrle",
        "outputId": "279ddc0a-932f-4e92-ae0f-cf277eb72e10"
      },
      "outputs": [
        {
          "name": "stdout",
          "output_type": "stream",
          "text": [
            "{' ': 3, 'hegays': 1, 'welcomein': 1, 'todi': 1, 'digital': 1, 'world': 2, 'data': 44, 'valuable': 1, 'perform': 1, 'key': 4, 'smooth': 1, 'functioning': 1, 'government': 1, 'local': 1, 'companythe': 1, 'success': 1, 'company': 1, 'vistly': 1, 'depends': 1, 'utilize': 1, 'datathis': 2, 'database': 73, 'constitu': 1, 'picture': 1, 'need': 5, 'databased': 2, 'store': 16, 'datain': 2, 'video': 2, 'lets': 1, 'learn': 1, 'different': 9, 'types': 7, 'available': 1, 'todaybutbefore': 1, 'talk': 1, 'important': 2, 'understand': 2, 'datadata': 1, '-any': 1, 'information': 10, 'fact': 1, 'considered': 5, 'age': 1, 'date': 1, 'birth': 1, 'house': 1, 'address': 1, 'bank': 2, 'balance': 1, 'vehicle': 1, 'drive': 1, 'food': 1, 'eat': 1, 'datadetails': 1, 'related': 10, 'school': 2, 'ora': 1, 'technology': 1, 'statistics': 1, 'mathematics': 1, 'stoed': 1, 'int': 1, 'databasedata': 1, 'form': 4, 'image': 2, 'phile': 1, 'plain': 1, 'text': 1, 'format': 4, 'stored': 10, 'databasefor': 1, 'details': 4, 'teacherts': 1, 'students': 1, 'subjects': 1, 'teachall': 1, 'formnow': 1, 'know': 1, 'time': 2, 'purpose': 2, 'storing': 3, 'themwhat': 1, 'container': 2, 'filled': 1, 'electronically': 1, 'computer': 6, 'systemdata': 1, 'storedinto': 1, 'te': 5, 'easily': 1, 'accessed': 1, 'modified': 2, 'protected': 1, 'analyzedyou': 1, 'yor': 2, 'day': 2, 'activities': 1, 'websites': 1, 'mobile': 1, 'applications': 2, 'today': 2, 'coogle': 1, 'instagram': 1, 'wordsap': 1, 'facebook': 3, 'dataas': 1, 'example': 4, 'let': 2, 'college': 3, 'demo': 2, 'project': 3, 'plan': 1, 'develop': 2, 'simple': 3, 'timesheet': 2, 'web': 2, 'applibasically': 1, 'application': 8, 'elop': 1, 'locking': 1, 'uarel': 1, 'options': 1, 'enter': 2, 'staff': 1, 'student': 2, 'attendants': 1, 'marks': 1, 'use': 7, 'personal': 1, 'thing': 1, 'retrieve': 5, 'datahence': 1, 'install': 1, 'laktop': 1, 'connect': 2, 'toimesheet': 1, 'applicationlike': 1, 'software': 3, 'installed': 3, 'lso': 1, 'elocated': 1, 'specific': 9, 'location': 1, 'harddrivethrough': 1, 'try': 1, 'save': 1, 'edit': 1, 'actually': 6, 'modify': 4, 'extract': 1, 'words': 1, 'shown': 1, 'recluwed': 1, 'ener': 1, 'databasebut': 1, 'memorythis': 1, 'howan': 1, 'uses': 2, 'small': 1, 'retieve': 1, 'datawhen': 1, 'comes': 2, 'bigger': 2, 'companies': 3, 'huge': 2, 'large': 1, 'serversthis': 1, 'true': 1, 'databaseimages': 1, 'videos': 1, 'post': 2, 'search': 2, 'friend': 1, 'searches': 1, 'databaseso': 1, 'eas': 1, 'dibiameslot': 1, 'people': 1, 'refer': 1, 'dibiames': 2, 'entirely': 1, 'correct': 1, 'stores': 1, 'dibmes': 1, 'management': 1, 'system': 1, 'manage': 1, 'databaseyou': 1, 'dbms': 3, 'interact': 2, 'protect': 1, 'datadebames': 1, 'required': 1, 'create': 1, 'delete': 1, 'users': 2, 'like': 2, 'entercommand': 1, 'language': 4, 'databseexamples': 1, 'myescuel': 2, 'poscreescuel': 1, 'mongo': 1, 'dib': 1, 'neophog': 1, 'casandra': 2, 'sevolution': 1, 'started': 1, 'nineteensixties': 1, 'type': 1, 'flat': 1, 'file': 2, 'ethe': 1, 'files': 1, 'siasfyfile': 1, 'fixland': 1, 'later': 2, 'came': 1, 'hierarchical': 1, 'network': 1, 'varentild': 1, 'relationship': 1, 'incapable': 1, 'complex': 1, 'reationships': 1, 'versuneplaced': 1, 'relational': 18, 'databasefis': 1, 'forward': 1, 'thowsand': 1, 'todays': 1, 'mainly': 2, 'popular': 3, 'non': 7, 'relationaldatabase': 2, 'usage': 2, 'seventy': 1, 'percent': 1, 'th': 1, 'invent': 1, 'raising': 1, 'past': 1, 'decade': 1, 'social': 1, 'media': 1, 'platforms': 1, 'biggest': 1, 'todaydata': 1, 'millions': 1, 'generally': 1, 'combination': 1, 'widely': 3, 'usedorecl': 1, 'mongodeb': 1, \"let'us\": 1, 'briefly': 2, 'locate': 2, 'typesrelational': 1, 'collection': 1, 'tablesthese': 1, 'staples': 3, 'anothereach': 1, 'table': 6, 'consists': 1, 'columns': 3, 'andros': 1, 'column': 10, 'datatype': 2, 'seaid': 1, 'rule': 1, 'associated': 1, 'satisfy': 1, 'rules': 1, 'inserted': 1, 'columna': 1, 'role': 1, 'treated': 1, 'record': 1, 'formed': 1, 'single': 1, 'multiple': 3, 'columnsas': 1, 'officabsit': 1, 'employees': 1, 'managers': 1, 'departmentsthese': 1, 'tables': 5, 'certain': 2, 'colunshere': 1, 'employee': 3, 'manager': 3, 'ide': 1, 'present': 1, 'stables': 1, 'foreign': 1, 'constaint': 1, 'relation': 3, 'tablessimilarly': 1, 'department': 3, 'departmentdy': 1, 'coloras': 1, 'directly': 1, 'possible': 2, 'fetch': 1, 'based': 1, 'conditions': 1, 'works': 1, 'scattered': 1, 'relations': 1, 'recieve': 1, 'tablesin': 1, 'commands': 1, 'specificc': 1, 'escuell': 1, 'structured': 3, 'qurie': 1, 'languageescuell': 1, 'programming': 2, 'follows': 2, 'standard': 1, 'qerrying': 1, 'databasemost': 1, 'financial': 1, 'institutions': 1, 'insurance': 1, 'databaseexamples': 1, 'rcl': 1, 'microsoft': 1, 'escuel': 1, 'server': 1, 'oscueescuelnon': 1, 'categories': 1, 'keyvalue': 3, 'document': 7, 'graph': 2, 'white': 2, 'engine': 1, 'series': 1, 'differently': 1, 'useful': 3, 'managing': 1, 'themkeyvalue': 1, 'databasecalled': 1, 'storeit': 1, 'simplest': 1, 'names': 2, 'suggest': 1, 'assigned': 1, 'keyto': 1, 'stole': 1, 'provide': 2, 'blob': 1, 'textphile': 1, 'jason': 2, 'object': 1, 'aonce': 1, 'saved': 1, 'keykey': 1, 'value': 1, 'configuration': 1, 'state': 1, 'datathat': 1, 'represented': 3, 'dictionary': 1, 'hashina': 1, 'languageexamples': 1, 'breadidatabase': 1, 'memcash': 1, 'called': 2, 'thee': 1, 'aso': 1, 'unique': 2, 'identify': 1, 'storeng': 1, 'unlike': 2, 'kevalue': 1, 'documents': 2, 'bisan': 1, 'examal': 1, 'formatthough': 1, 'followed': 1, 'structure': 3, 'understands': 1, 'storin': 1, 'quedied': 1, 'analyzedexamples': 1, 'longo': 1, 'cultragraph': 1, 'graft': 3, 'falls': 1, 'bracket': 1, 'databasean': 1, 'approach': 1, 'forming': 1, 'relationships': 4, 'datarather': 1, 'foreignteys': 1, 'notes': 3, 'edges': 3, 'propertiesdata': 1, 'individual': 1, 'note': 1, 'propertiesbetween': 1, 'established': 1, 'represent': 1, 'connectionshence': 1, 'toed': 1, 'notand': 1, 'working': 1, 'connections': 1, 'databaserit': 1, 'choicegraft': 1, 'searching': 1, 'pattern': 1, 'fraud': 1, 'detection': 1, 'monylundering': 1, 'transactions': 1, 'neofoge': 1, 'databasewhite': 1, 'known': 1, 'family': 1, 'stor': 1, 'daata': 1, 'rowsed': 1, 'instead': 1, 'collless': 1, 'families': 2, 'contain': 1, 'rows': 1, 'row': 3, 'schemaeach': 1, 'comprises': 1, 'identifier': 1, 'serts': 1, 'valueseach': 1, 'ro': 1, 'number': 1, 'dataexamples': 1, 'hbase': 1, 'ectraeetenteeten': 1, 'e': 1, 'ligmomision': 1, 'af': 1, 'aset': 1}\n"
          ]
        }
      ],
      "source": [
        "print(word_frequencies)"
      ]
    },
    {
      "cell_type": "code",
      "execution_count": null,
      "metadata": {
        "id": "kp61f6wqItDz"
      },
      "outputs": [],
      "source": [
        "max_frequency = max(word_frequencies.values())"
      ]
    },
    {
      "cell_type": "code",
      "execution_count": null,
      "metadata": {
        "colab": {
          "base_uri": "https://localhost:8080/"
        },
        "id": "aGnkxvd5IwMQ",
        "outputId": "b4d39d05-c8c1-452e-a313-897dfd2c7884"
      },
      "outputs": [
        {
          "data": {
            "text/plain": [
              "73"
            ]
          },
          "execution_count": 37,
          "metadata": {},
          "output_type": "execute_result"
        }
      ],
      "source": [
        "max_frequency"
      ]
    },
    {
      "cell_type": "markdown",
      "metadata": {
        "id": "JbBpUK-TIxuG"
      },
      "source": [
        "FREQUENCY NORMALIZATION"
      ]
    },
    {
      "cell_type": "code",
      "execution_count": null,
      "metadata": {
        "id": "Qdw-d7YGI0tj"
      },
      "outputs": [],
      "source": [
        "for word in word_frequencies.keys():\n",
        "  word_frequencies[word] = word_frequencies[word]/max_frequency"
      ]
    },
    {
      "cell_type": "code",
      "execution_count": null,
      "metadata": {
        "colab": {
          "base_uri": "https://localhost:8080/"
        },
        "id": "VqHrlu4LI3Nw",
        "outputId": "ab859bff-ceb1-45cf-c0dc-586f661d41c2"
      },
      "outputs": [
        {
          "name": "stdout",
          "output_type": "stream",
          "text": [
            "{' ': 0.0410958904109589, 'hegays': 0.0136986301369863, 'welcomein': 0.0136986301369863, 'todi': 0.0136986301369863, 'digital': 0.0136986301369863, 'world': 0.0273972602739726, 'data': 0.6027397260273972, 'valuable': 0.0136986301369863, 'perform': 0.0136986301369863, 'key': 0.0547945205479452, 'smooth': 0.0136986301369863, 'functioning': 0.0136986301369863, 'government': 0.0136986301369863, 'local': 0.0136986301369863, 'companythe': 0.0136986301369863, 'success': 0.0136986301369863, 'company': 0.0136986301369863, 'vistly': 0.0136986301369863, 'depends': 0.0136986301369863, 'utilize': 0.0136986301369863, 'datathis': 0.0273972602739726, 'database': 1.0, 'constitu': 0.0136986301369863, 'picture': 0.0136986301369863, 'need': 0.0684931506849315, 'databased': 0.0273972602739726, 'store': 0.2191780821917808, 'datain': 0.0273972602739726, 'video': 0.0273972602739726, 'lets': 0.0136986301369863, 'learn': 0.0136986301369863, 'different': 0.1232876712328767, 'types': 0.0958904109589041, 'available': 0.0136986301369863, 'todaybutbefore': 0.0136986301369863, 'talk': 0.0136986301369863, 'important': 0.0273972602739726, 'understand': 0.0273972602739726, 'datadata': 0.0136986301369863, '-any': 0.0136986301369863, 'information': 0.136986301369863, 'fact': 0.0136986301369863, 'considered': 0.0684931506849315, 'age': 0.0136986301369863, 'date': 0.0136986301369863, 'birth': 0.0136986301369863, 'house': 0.0136986301369863, 'address': 0.0136986301369863, 'bank': 0.0273972602739726, 'balance': 0.0136986301369863, 'vehicle': 0.0136986301369863, 'drive': 0.0136986301369863, 'food': 0.0136986301369863, 'eat': 0.0136986301369863, 'datadetails': 0.0136986301369863, 'related': 0.136986301369863, 'school': 0.0273972602739726, 'ora': 0.0136986301369863, 'technology': 0.0136986301369863, 'statistics': 0.0136986301369863, 'mathematics': 0.0136986301369863, 'stoed': 0.0136986301369863, 'int': 0.0136986301369863, 'databasedata': 0.0136986301369863, 'form': 0.0547945205479452, 'image': 0.0273972602739726, 'phile': 0.0136986301369863, 'plain': 0.0136986301369863, 'text': 0.0136986301369863, 'format': 0.0547945205479452, 'stored': 0.136986301369863, 'databasefor': 0.0136986301369863, 'details': 0.0547945205479452, 'teacherts': 0.0136986301369863, 'students': 0.0136986301369863, 'subjects': 0.0136986301369863, 'teachall': 0.0136986301369863, 'formnow': 0.0136986301369863, 'know': 0.0136986301369863, 'time': 0.0273972602739726, 'purpose': 0.0273972602739726, 'storing': 0.0410958904109589, 'themwhat': 0.0136986301369863, 'container': 0.0273972602739726, 'filled': 0.0136986301369863, 'electronically': 0.0136986301369863, 'computer': 0.0821917808219178, 'systemdata': 0.0136986301369863, 'storedinto': 0.0136986301369863, 'te': 0.0684931506849315, 'easily': 0.0136986301369863, 'accessed': 0.0136986301369863, 'modified': 0.0273972602739726, 'protected': 0.0136986301369863, 'analyzedyou': 0.0136986301369863, 'yor': 0.0273972602739726, 'day': 0.0273972602739726, 'activities': 0.0136986301369863, 'websites': 0.0136986301369863, 'mobile': 0.0136986301369863, 'applications': 0.0273972602739726, 'today': 0.0273972602739726, 'coogle': 0.0136986301369863, 'instagram': 0.0136986301369863, 'wordsap': 0.0136986301369863, 'facebook': 0.0410958904109589, 'dataas': 0.0136986301369863, 'example': 0.0547945205479452, 'let': 0.0273972602739726, 'college': 0.0410958904109589, 'demo': 0.0273972602739726, 'project': 0.0410958904109589, 'plan': 0.0136986301369863, 'develop': 0.0273972602739726, 'simple': 0.0410958904109589, 'timesheet': 0.0273972602739726, 'web': 0.0273972602739726, 'applibasically': 0.0136986301369863, 'application': 0.1095890410958904, 'elop': 0.0136986301369863, 'locking': 0.0136986301369863, 'uarel': 0.0136986301369863, 'options': 0.0136986301369863, 'enter': 0.0273972602739726, 'staff': 0.0136986301369863, 'student': 0.0273972602739726, 'attendants': 0.0136986301369863, 'marks': 0.0136986301369863, 'use': 0.0958904109589041, 'personal': 0.0136986301369863, 'thing': 0.0136986301369863, 'retrieve': 0.0684931506849315, 'datahence': 0.0136986301369863, 'install': 0.0136986301369863, 'laktop': 0.0136986301369863, 'connect': 0.0273972602739726, 'toimesheet': 0.0136986301369863, 'applicationlike': 0.0136986301369863, 'software': 0.0410958904109589, 'installed': 0.0410958904109589, 'lso': 0.0136986301369863, 'elocated': 0.0136986301369863, 'specific': 0.1232876712328767, 'location': 0.0136986301369863, 'harddrivethrough': 0.0136986301369863, 'try': 0.0136986301369863, 'save': 0.0136986301369863, 'edit': 0.0136986301369863, 'actually': 0.0821917808219178, 'modify': 0.0547945205479452, 'extract': 0.0136986301369863, 'words': 0.0136986301369863, 'shown': 0.0136986301369863, 'recluwed': 0.0136986301369863, 'ener': 0.0136986301369863, 'databasebut': 0.0136986301369863, 'memorythis': 0.0136986301369863, 'howan': 0.0136986301369863, 'uses': 0.0273972602739726, 'small': 0.0136986301369863, 'retieve': 0.0136986301369863, 'datawhen': 0.0136986301369863, 'comes': 0.0273972602739726, 'bigger': 0.0273972602739726, 'companies': 0.0410958904109589, 'huge': 0.0273972602739726, 'large': 0.0136986301369863, 'serversthis': 0.0136986301369863, 'true': 0.0136986301369863, 'databaseimages': 0.0136986301369863, 'videos': 0.0136986301369863, 'post': 0.0273972602739726, 'search': 0.0273972602739726, 'friend': 0.0136986301369863, 'searches': 0.0136986301369863, 'databaseso': 0.0136986301369863, 'eas': 0.0136986301369863, 'dibiameslot': 0.0136986301369863, 'people': 0.0136986301369863, 'refer': 0.0136986301369863, 'dibiames': 0.0273972602739726, 'entirely': 0.0136986301369863, 'correct': 0.0136986301369863, 'stores': 0.0136986301369863, 'dibmes': 0.0136986301369863, 'management': 0.0136986301369863, 'system': 0.0136986301369863, 'manage': 0.0136986301369863, 'databaseyou': 0.0136986301369863, 'dbms': 0.0410958904109589, 'interact': 0.0273972602739726, 'protect': 0.0136986301369863, 'datadebames': 0.0136986301369863, 'required': 0.0136986301369863, 'create': 0.0136986301369863, 'delete': 0.0136986301369863, 'users': 0.0273972602739726, 'like': 0.0273972602739726, 'entercommand': 0.0136986301369863, 'language': 0.0547945205479452, 'databseexamples': 0.0136986301369863, 'myescuel': 0.0273972602739726, 'poscreescuel': 0.0136986301369863, 'mongo': 0.0136986301369863, 'dib': 0.0136986301369863, 'neophog': 0.0136986301369863, 'casandra': 0.0273972602739726, 'sevolution': 0.0136986301369863, 'started': 0.0136986301369863, 'nineteensixties': 0.0136986301369863, 'type': 0.0136986301369863, 'flat': 0.0136986301369863, 'file': 0.0273972602739726, 'ethe': 0.0136986301369863, 'files': 0.0136986301369863, 'siasfyfile': 0.0136986301369863, 'fixland': 0.0136986301369863, 'later': 0.0273972602739726, 'came': 0.0136986301369863, 'hierarchical': 0.0136986301369863, 'network': 0.0136986301369863, 'varentild': 0.0136986301369863, 'relationship': 0.0136986301369863, 'incapable': 0.0136986301369863, 'complex': 0.0136986301369863, 'reationships': 0.0136986301369863, 'versuneplaced': 0.0136986301369863, 'relational': 0.2465753424657534, 'databasefis': 0.0136986301369863, 'forward': 0.0136986301369863, 'thowsand': 0.0136986301369863, 'todays': 0.0136986301369863, 'mainly': 0.0273972602739726, 'popular': 0.0410958904109589, 'non': 0.0958904109589041, 'relationaldatabase': 0.0273972602739726, 'usage': 0.0273972602739726, 'seventy': 0.0136986301369863, 'percent': 0.0136986301369863, 'th': 0.0136986301369863, 'invent': 0.0136986301369863, 'raising': 0.0136986301369863, 'past': 0.0136986301369863, 'decade': 0.0136986301369863, 'social': 0.0136986301369863, 'media': 0.0136986301369863, 'platforms': 0.0136986301369863, 'biggest': 0.0136986301369863, 'todaydata': 0.0136986301369863, 'millions': 0.0136986301369863, 'generally': 0.0136986301369863, 'combination': 0.0136986301369863, 'widely': 0.0410958904109589, 'usedorecl': 0.0136986301369863, 'mongodeb': 0.0136986301369863, \"let'us\": 0.0136986301369863, 'briefly': 0.0273972602739726, 'locate': 0.0273972602739726, 'typesrelational': 0.0136986301369863, 'collection': 0.0136986301369863, 'tablesthese': 0.0136986301369863, 'staples': 0.0410958904109589, 'anothereach': 0.0136986301369863, 'table': 0.0821917808219178, 'consists': 0.0136986301369863, 'columns': 0.0410958904109589, 'andros': 0.0136986301369863, 'column': 0.136986301369863, 'datatype': 0.0273972602739726, 'seaid': 0.0136986301369863, 'rule': 0.0136986301369863, 'associated': 0.0136986301369863, 'satisfy': 0.0136986301369863, 'rules': 0.0136986301369863, 'inserted': 0.0136986301369863, 'columna': 0.0136986301369863, 'role': 0.0136986301369863, 'treated': 0.0136986301369863, 'record': 0.0136986301369863, 'formed': 0.0136986301369863, 'single': 0.0136986301369863, 'multiple': 0.0410958904109589, 'columnsas': 0.0136986301369863, 'officabsit': 0.0136986301369863, 'employees': 0.0136986301369863, 'managers': 0.0136986301369863, 'departmentsthese': 0.0136986301369863, 'tables': 0.0684931506849315, 'certain': 0.0273972602739726, 'colunshere': 0.0136986301369863, 'employee': 0.0410958904109589, 'manager': 0.0410958904109589, 'ide': 0.0136986301369863, 'present': 0.0136986301369863, 'stables': 0.0136986301369863, 'foreign': 0.0136986301369863, 'constaint': 0.0136986301369863, 'relation': 0.0410958904109589, 'tablessimilarly': 0.0136986301369863, 'department': 0.0410958904109589, 'departmentdy': 0.0136986301369863, 'coloras': 0.0136986301369863, 'directly': 0.0136986301369863, 'possible': 0.0273972602739726, 'fetch': 0.0136986301369863, 'based': 0.0136986301369863, 'conditions': 0.0136986301369863, 'works': 0.0136986301369863, 'scattered': 0.0136986301369863, 'relations': 0.0136986301369863, 'recieve': 0.0136986301369863, 'tablesin': 0.0136986301369863, 'commands': 0.0136986301369863, 'specificc': 0.0136986301369863, 'escuell': 0.0136986301369863, 'structured': 0.0410958904109589, 'qurie': 0.0136986301369863, 'languageescuell': 0.0136986301369863, 'programming': 0.0273972602739726, 'follows': 0.0273972602739726, 'standard': 0.0136986301369863, 'qerrying': 0.0136986301369863, 'databasemost': 0.0136986301369863, 'financial': 0.0136986301369863, 'institutions': 0.0136986301369863, 'insurance': 0.0136986301369863, 'databaseexamples': 0.0136986301369863, 'rcl': 0.0136986301369863, 'microsoft': 0.0136986301369863, 'escuel': 0.0136986301369863, 'server': 0.0136986301369863, 'oscueescuelnon': 0.0136986301369863, 'categories': 0.0136986301369863, 'keyvalue': 0.0410958904109589, 'document': 0.0958904109589041, 'graph': 0.0273972602739726, 'white': 0.0273972602739726, 'engine': 0.0136986301369863, 'series': 0.0136986301369863, 'differently': 0.0136986301369863, 'useful': 0.0410958904109589, 'managing': 0.0136986301369863, 'themkeyvalue': 0.0136986301369863, 'databasecalled': 0.0136986301369863, 'storeit': 0.0136986301369863, 'simplest': 0.0136986301369863, 'names': 0.0273972602739726, 'suggest': 0.0136986301369863, 'assigned': 0.0136986301369863, 'keyto': 0.0136986301369863, 'stole': 0.0136986301369863, 'provide': 0.0273972602739726, 'blob': 0.0136986301369863, 'textphile': 0.0136986301369863, 'jason': 0.0273972602739726, 'object': 0.0136986301369863, 'aonce': 0.0136986301369863, 'saved': 0.0136986301369863, 'keykey': 0.0136986301369863, 'value': 0.0136986301369863, 'configuration': 0.0136986301369863, 'state': 0.0136986301369863, 'datathat': 0.0136986301369863, 'represented': 0.0410958904109589, 'dictionary': 0.0136986301369863, 'hashina': 0.0136986301369863, 'languageexamples': 0.0136986301369863, 'breadidatabase': 0.0136986301369863, 'memcash': 0.0136986301369863, 'called': 0.0273972602739726, 'thee': 0.0136986301369863, 'aso': 0.0136986301369863, 'unique': 0.0273972602739726, 'identify': 0.0136986301369863, 'storeng': 0.0136986301369863, 'unlike': 0.0273972602739726, 'kevalue': 0.0136986301369863, 'documents': 0.0273972602739726, 'bisan': 0.0136986301369863, 'examal': 0.0136986301369863, 'formatthough': 0.0136986301369863, 'followed': 0.0136986301369863, 'structure': 0.0410958904109589, 'understands': 0.0136986301369863, 'storin': 0.0136986301369863, 'quedied': 0.0136986301369863, 'analyzedexamples': 0.0136986301369863, 'longo': 0.0136986301369863, 'cultragraph': 0.0136986301369863, 'graft': 0.0410958904109589, 'falls': 0.0136986301369863, 'bracket': 0.0136986301369863, 'databasean': 0.0136986301369863, 'approach': 0.0136986301369863, 'forming': 0.0136986301369863, 'relationships': 0.0547945205479452, 'datarather': 0.0136986301369863, 'foreignteys': 0.0136986301369863, 'notes': 0.0410958904109589, 'edges': 0.0410958904109589, 'propertiesdata': 0.0136986301369863, 'individual': 0.0136986301369863, 'note': 0.0136986301369863, 'propertiesbetween': 0.0136986301369863, 'established': 0.0136986301369863, 'represent': 0.0136986301369863, 'connectionshence': 0.0136986301369863, 'toed': 0.0136986301369863, 'notand': 0.0136986301369863, 'working': 0.0136986301369863, 'connections': 0.0136986301369863, 'databaserit': 0.0136986301369863, 'choicegraft': 0.0136986301369863, 'searching': 0.0136986301369863, 'pattern': 0.0136986301369863, 'fraud': 0.0136986301369863, 'detection': 0.0136986301369863, 'monylundering': 0.0136986301369863, 'transactions': 0.0136986301369863, 'neofoge': 0.0136986301369863, 'databasewhite': 0.0136986301369863, 'known': 0.0136986301369863, 'family': 0.0136986301369863, 'stor': 0.0136986301369863, 'daata': 0.0136986301369863, 'rowsed': 0.0136986301369863, 'instead': 0.0136986301369863, 'collless': 0.0136986301369863, 'families': 0.0273972602739726, 'contain': 0.0136986301369863, 'rows': 0.0136986301369863, 'row': 0.0410958904109589, 'schemaeach': 0.0136986301369863, 'comprises': 0.0136986301369863, 'identifier': 0.0136986301369863, 'serts': 0.0136986301369863, 'valueseach': 0.0136986301369863, 'ro': 0.0136986301369863, 'number': 0.0136986301369863, 'dataexamples': 0.0136986301369863, 'hbase': 0.0136986301369863, 'ectraeetenteeten': 0.0136986301369863, 'e': 0.0136986301369863, 'ligmomision': 0.0136986301369863, 'af': 0.0136986301369863, 'aset': 0.0136986301369863}\n"
          ]
        }
      ],
      "source": [
        "print(word_frequencies)"
      ]
    },
    {
      "cell_type": "code",
      "execution_count": null,
      "metadata": {
        "colab": {
          "base_uri": "https://localhost:8080/"
        },
        "id": "IB9fSoHeI4oW",
        "outputId": "db9999db-14b9-4f3e-e4e6-f5053863207f"
      },
      "outputs": [
        {
          "name": "stdout",
          "output_type": "stream",
          "text": [
            "[ hegays welcomein todi's digital world data is more valuable than ever perform data is the key to the smooth functioning of everything from a government to a local companythe success of her company vistly depends on how well they utilize their datathis is where database constitu picture you need a databased store datain this video lets learn what is database and different types of database available todaybutbefore we talk about database it is important to understand datadata data can anything and everything -any information or fact can be considered as data your name age date-of-birth or any other information such as you house address your bank balance the vehicle you drive or even the food that you eat can be considered as datadetails related to a school ora technology or statistics or even mathematics can be considered as data and can be stoed int a databasedata can be in any form such as image or a video or a phile or even a plain text data in any of these format can be stored into a databasefor a school data can be details related to its teacherts or its students or the subjects they teachall of these can be data as you can see data can be anything and everything and data can any formnow that you know what data is it's time to understand where to we store them and the purpose of storing themwhat is database database can be considered as a container filled with data or information which is electronically stored in a computer systemdata in any form can be storedinto the database the purpose of storing the data into te database is so it can be easily accessed modified protected and analyzedyou may already be using database in yor day activities because most of the websites or mobile applications today such as coogle instagram wordsap facebook already used database to store dataas an example let see for your college demo project you plan to develop a simple college timesheet web applibasically this application should elop you to locking through a uarel and then have options to enter staff details timesheet details student attendants student marks since this is a college demo project you may just use your personal computer to develop this project the first thing your application will need is a database to store and retrieve the datahence you need to first install a database on your laktop which will connect toimesheet applicationlike any other software installed on your computer database software will lso be elocated to a specific location in your computer harddrivethrough your web application whenever you try to save edit or retrieve information the application will actually connect database to store modify or extract a datain other words any information that is shown in your application is actually being recluwed from the database and any information you ener in the application will actually be stored into the databasebut since the database is installed on your computer the data is actually being stored into a computer memorythis is a simple example of howan application uses a small database to store modify and retieve datawhen it comes to bigger applications or bigger companies they need huge database to store huge data which may be installed on large serversthis is true to any application that uses a databaseimages videos or post or any other information that you see on facebook is actually stored in a database and whenever you search for a specific post or friend facebook actually searches for this data in its databaseso eas database same as dibiameslot of people refer to database as dibiames but that's not entirely correct because database is just a container that stores data whereas dibmes or database management system is a software which is used to manage your databaseyou need dbms to interact with the database to store modify retrieve and protect datadebames is also required to create modify and delete database users like you and me can use dibiames to entercommand in a specific language to interact with the databseexamples of dbms can be myescuel poscreescuel mongo dib neophog-casandra sevolution of database started in nineteensixties when the first type of database were made which was the flat-file database ethe data was stored in simple files such as siasfyfile or fixland file later on came the hierarchical database and then the network database both of these database stored data through varentild relationship but both of these database were incapable of storing complex data-reationships hence versuneplaced by relational databasefis forward to two thowsand twenty in todays world there are mainly two popular database types relational database and non-relationaldatabase as for the usage over seventy-four percent of th database used today are relational database but due to invent-raising data usage over the past decade mainly due to social media platforms non-relational database have become very popular however the biggest companies todaydata related to millions of users every day generally use combination of both relational and non-relational database hence both these database types are very popular and widely usedorecl is the most widely used relational database whereas mongodeb is the most widely used non-relational database let'us briefly locate each of these databased typesrelational database in a relational database data is stored through collection of tablesthese staples are related to one anothereach table consists of columns andros each column has a name and a datatype datatype can be seaid as a data rule which is associated to every column only those data that satisfy this data rules can be inserted in the specific columna role can be treated as a record which is formed by single or multiple columnsas an example considered an officabsit will have information related to employees managers and departmentsthese details are stored in different tables but these staples will be related to each other through certain colunshere employee and manager table is related through the manager ide column which is present in both these stables in a relational database foreign key constaint is used to form relation between different tablessimilarly manager and department tables are related through the departmentdy coloras you can see employee and department table are not directly related to each other but still it is possible to fetch data from te employee table based on specific conditions from  department table this is how relational database works information is scattered across multiple tables which are related to one another hence using table relations it is possible to recieve data from different tablesin  relationaldatabase using dbms you can enter commands and specificc language store retrieve and modified datathis specific language is escuell or structured qurie languageescuell is a programming language which follows a standard format for qerrying data across different relational databasemost of financial institutions such as bank or insurance companies use relational databaseexamples of relational database are rcl myescuel microsoft escuel server oscueescuelnon-relational database when it comes to a non-relational database there are several categories of database such as keyvalue store document database graph database white column database search engine database time-series database each of these database store data differently and are useful for managing specific types of data let's briefly locate a few of themkeyvalue databasecalled keyvalue storeit is the simplest of the non-relational database and as the names suggest every data-stored in this database will be assigned to a keyto stole data we provide a key and a blob of data such as an image textphile jason object aonce saved to retrieve the data just provide the keykey-value database are very useful to store certain types of data such as configuration data state information or any datathat might be represented by a dictionary or hashina programming languageexamples can breadidatabase memcash database document database also called as document store thee aso use unique key to identify data-storeng database however unlike kevalue store document database store data-in structured format called documents often using jason bisan or examal formatthough each document within this database has structured data there is no specific format to be followed for all documents each document can have its own structure which the database understands so unlike keyvalue store the data-storin document database can be quedied and analyzedexamples can be longo cultragraph database graft database falls under the bracket of non-relational databasean follows a different approach to forming relationships between datarather than using tables and foreignteys to form relation graft database from relation by using notes edges and propertiesdata is represented through individual notes and each note can have multiple propertiesbetween these notes edges or relationships are established to represent different types of connectionshence in a graph database data is toed as notand relationships are represented through edges if yor working with data where relationships or connections between data are most important than graft databaserit choicegraft database is useful when searching or specific pattern like fraud detection to monylundering transactions example can be neofoge databasewhite column database also known as column family database white column database stor daata using rowsed columns but they do not use staples instead of tables they use structure collless column families column families contain rows of data where each row has its own structure or schemaeach row comprises of unique row identifier and serts of column names and valueseach ro can have a different number of columns with different types of dataexamples can be casandra hbase ectraeetenteeten te e te ligmomision af te later aset]\n"
          ]
        }
      ],
      "source": [
        "sentence_tokens = [sent for sent in doc.sents]\n",
        "print(sentence_tokens)"
      ]
    },
    {
      "cell_type": "code",
      "execution_count": null,
      "metadata": {
        "id": "aaLzIUIcI7fZ"
      },
      "outputs": [],
      "source": [
        "sentence_scores = {}\n",
        "for sent in sentence_tokens:\n",
        "  for word in sent:\n",
        "    if word.text.lower() in word_frequencies.keys():\n",
        "      if sent not in sentence_scores.keys():\n",
        "        sentence_scores[sent] = word_frequencies[word.text.lower()]\n",
        "      else:\n",
        "        sentence_scores[sent] += word_frequencies[word.text.lower()]"
      ]
    },
    {
      "cell_type": "code",
      "execution_count": null,
      "metadata": {
        "colab": {
          "base_uri": "https://localhost:8080/"
        },
        "id": "Q85cIH90I91Z",
        "outputId": "5d102ca0-3b74-4313-b2ef-9019a8eec694"
      },
      "outputs": [
        {
          "data": {
            "text/plain": [
              "{ hegays welcomein todi's digital world data is more valuable than ever perform data is the key to the smooth functioning of everything from a government to a local companythe success of her company vistly depends on how well they utilize their datathis is where database constitu picture you need a databased store datain this video lets learn what is database and different types of database available todaybutbefore we talk about database it is important to understand datadata data can anything and everything -any information or fact can be considered as data your name age date-of-birth or any other information such as you house address your bank balance the vehicle you drive or even the food that you eat can be considered as datadetails related to a school ora technology or statistics or even mathematics can be considered as data and can be stoed int a databasedata can be in any form such as image or a video or a phile or even a plain text data in any of these format can be stored into a databasefor a school data can be details related to its teacherts or its students or the subjects they teachall of these can be data as you can see data can be anything and everything and data can any formnow that you know what data is it's time to understand where to we store them and the purpose of storing themwhat is database database can be considered as a container filled with data or information which is electronically stored in a computer systemdata in any form can be storedinto the database the purpose of storing the data into te database is so it can be easily accessed modified protected and analyzedyou may already be using database in yor day activities because most of the websites or mobile applications today such as coogle instagram wordsap facebook already used database to store dataas an example let see for your college demo project you plan to develop a simple college timesheet web applibasically this application should elop you to locking through a uarel and then have options to enter staff details timesheet details student attendants student marks since this is a college demo project you may just use your personal computer to develop this project the first thing your application will need is a database to store and retrieve the datahence you need to first install a database on your laktop which will connect toimesheet applicationlike any other software installed on your computer database software will lso be elocated to a specific location in your computer harddrivethrough your web application whenever you try to save edit or retrieve information the application will actually connect database to store modify or extract a datain other words any information that is shown in your application is actually being recluwed from the database and any information you ener in the application will actually be stored into the databasebut since the database is installed on your computer the data is actually being stored into a computer memorythis is a simple example of howan application uses a small database to store modify and retieve datawhen it comes to bigger applications or bigger companies they need huge database to store huge data which may be installed on large serversthis is true to any application that uses a databaseimages videos or post or any other information that you see on facebook is actually stored in a database and whenever you search for a specific post or friend facebook actually searches for this data in its databaseso eas database same as dibiameslot of people refer to database as dibiames but that's not entirely correct because database is just a container that stores data whereas dibmes or database management system is a software which is used to manage your databaseyou need dbms to interact with the database to store modify retrieve and protect datadebames is also required to create modify and delete database users like you and me can use dibiames to entercommand in a specific language to interact with the databseexamples of dbms can be myescuel poscreescuel mongo dib neophog-casandra sevolution of database started in nineteensixties when the first type of database were made which was the flat-file database ethe data was stored in simple files such as siasfyfile or fixland file later on came the hierarchical database and then the network database both of these database stored data through varentild relationship but both of these database were incapable of storing complex data-reationships hence versuneplaced by relational databasefis forward to two thowsand twenty in todays world there are mainly two popular database types relational database and non-relationaldatabase as for the usage over seventy-four percent of th database used today are relational database but due to invent-raising data usage over the past decade mainly due to social media platforms non-relational database have become very popular however the biggest companies todaydata related to millions of users every day generally use combination of both relational and non-relational database hence both these database types are very popular and widely usedorecl is the most widely used relational database whereas mongodeb is the most widely used non-relational database let'us briefly locate each of these databased typesrelational database in a relational database data is stored through collection of tablesthese staples are related to one anothereach table consists of columns andros each column has a name and a datatype datatype can be seaid as a data rule which is associated to every column only those data that satisfy this data rules can be inserted in the specific columna role can be treated as a record which is formed by single or multiple columnsas an example considered an officabsit will have information related to employees managers and departmentsthese details are stored in different tables but these staples will be related to each other through certain colunshere employee and manager table is related through the manager ide column which is present in both these stables in a relational database foreign key constaint is used to form relation between different tablessimilarly manager and department tables are related through the departmentdy coloras you can see employee and department table are not directly related to each other but still it is possible to fetch data from te employee table based on specific conditions from  department table this is how relational database works information is scattered across multiple tables which are related to one another hence using table relations it is possible to recieve data from different tablesin  relationaldatabase using dbms you can enter commands and specificc language store retrieve and modified datathis specific language is escuell or structured qurie languageescuell is a programming language which follows a standard format for qerrying data across different relational databasemost of financial institutions such as bank or insurance companies use relational databaseexamples of relational database are rcl myescuel microsoft escuel server oscueescuelnon-relational database when it comes to a non-relational database there are several categories of database such as keyvalue store document database graph database white column database search engine database time-series database each of these database store data differently and are useful for managing specific types of data let's briefly locate a few of themkeyvalue databasecalled keyvalue storeit is the simplest of the non-relational database and as the names suggest every data-stored in this database will be assigned to a keyto stole data we provide a key and a blob of data such as an image textphile jason object aonce saved to retrieve the data just provide the keykey-value database are very useful to store certain types of data such as configuration data state information or any datathat might be represented by a dictionary or hashina programming languageexamples can breadidatabase memcash database document database also called as document store thee aso use unique key to identify data-storeng database however unlike kevalue store document database store data-in structured format called documents often using jason bisan or examal formatthough each document within this database has structured data there is no specific format to be followed for all documents each document can have its own structure which the database understands so unlike keyvalue store the data-storin document database can be quedied and analyzedexamples can be longo cultragraph database graft database falls under the bracket of non-relational databasean follows a different approach to forming relationships between datarather than using tables and foreignteys to form relation graft database from relation by using notes edges and propertiesdata is represented through individual notes and each note can have multiple propertiesbetween these notes edges or relationships are established to represent different types of connectionshence in a graph database data is toed as notand relationships are represented through edges if yor working with data where relationships or connections between data are most important than graft databaserit choicegraft database is useful when searching or specific pattern like fraud detection to monylundering transactions example can be neofoge databasewhite column database also known as column family database white column database stor daata using rowsed columns but they do not use staples instead of tables they use structure collless column families column families contain rows of data where each row has its own structure or schemaeach row comprises of unique row identifier and serts of column names and valueseach ro can have a different number of columns with different types of dataexamples can be casandra hbase ectraeetenteeten te e te ligmomision af te later aset: 134.8904109589033}"
            ]
          },
          "execution_count": 42,
          "metadata": {},
          "output_type": "execute_result"
        }
      ],
      "source": [
        "sentence_scores"
      ]
    },
    {
      "cell_type": "code",
      "execution_count": null,
      "metadata": {
        "id": "EuVRkVwJI_N3"
      },
      "outputs": [],
      "source": [
        "from heapq import nlargest"
      ]
    },
    {
      "cell_type": "code",
      "execution_count": null,
      "metadata": {
        "colab": {
          "base_uri": "https://localhost:8080/"
        },
        "id": "BdWhYMsKJBYe",
        "outputId": "c6e1a7a4-bbd9-4a8c-9c19-f7a92b59c186"
      },
      "outputs": [
        {
          "data": {
            "text/plain": [
              "0"
            ]
          },
          "execution_count": 50,
          "metadata": {},
          "output_type": "execute_result"
        }
      ],
      "source": [
        "select_length = int(len(sentence_tokens)*0.3)\n",
        "select_length"
      ]
    },
    {
      "cell_type": "code",
      "execution_count": null,
      "metadata": {
        "id": "1XezwWnyJEDs"
      },
      "outputs": [],
      "source": [
        "summarized_sentences = nlargest(select_length, sentence_scores, key=sentence_scores.get)"
      ]
    },
    {
      "cell_type": "code",
      "execution_count": null,
      "metadata": {
        "colab": {
          "base_uri": "https://localhost:8080/"
        },
        "id": "mlcXSemcJFvC",
        "outputId": "44b67b18-2942-499a-b910-fdecbd9cfc97"
      },
      "outputs": [
        {
          "data": {
            "text/plain": [
              "[]"
            ]
          },
          "execution_count": 47,
          "metadata": {},
          "output_type": "execute_result"
        }
      ],
      "source": [
        "summarized_sentences"
      ]
    },
    {
      "cell_type": "code",
      "execution_count": null,
      "metadata": {
        "colab": {
          "base_uri": "https://localhost:8080/"
        },
        "id": "SEqB2qsAKsJk",
        "outputId": "10a19e6d-9daa-47b1-f21e-810f73cece2f"
      },
      "outputs": [
        {
          "name": "stdout",
          "output_type": "stream",
          "text": [
            "\n"
          ]
        }
      ],
      "source": [
        "final_sentences=[w.text for w in summarized_sentences]\n",
        "summary=' '.join(final_sentences)\n",
        "print(summary)"
      ]
    },
    {
      "cell_type": "markdown",
      "metadata": {
        "id": "fsQ5C9gdJKK9"
      },
      "source": [
        "CALCULATE ROUGE SCORE OF THE SUMMARY"
      ]
    },
    {
      "cell_type": "code",
      "execution_count": null,
      "metadata": {
        "colab": {
          "base_uri": "https://localhost:8080/"
        },
        "id": "evm-5rCbJILw",
        "outputId": "26e031e2-9282-41ca-aa64-392e4fe3bf7d"
      },
      "outputs": [
        {
          "name": "stdout",
          "output_type": "stream",
          "text": [
            "Looking in indexes: https://pypi.org/simple, https://us-python.pkg.dev/colab-wheels/public/simple/\n",
            "Collecting rouge\n",
            "  Downloading rouge-1.0.1-py3-none-any.whl (13 kB)\n",
            "Requirement already satisfied: six in /usr/local/lib/python3.9/dist-packages (from rouge) (1.16.0)\n",
            "Installing collected packages: rouge\n",
            "Successfully installed rouge-1.0.1\n"
          ]
        }
      ],
      "source": [
        "!pip install rouge"
      ]
    },
    {
      "cell_type": "code",
      "execution_count": null,
      "metadata": {
        "id": "iWBs-z43JN52"
      },
      "outputs": [],
      "source": [
        "from rouge import Rouge"
      ]
    },
    {
      "cell_type": "code",
      "execution_count": null,
      "metadata": {
        "id": "rqXVsuLUJRcC"
      },
      "outputs": [],
      "source": [
        "rouge = Rouge()"
      ]
    },
    {
      "cell_type": "code",
      "execution_count": null,
      "metadata": {
        "colab": {
          "base_uri": "https://localhost:8080/"
        },
        "id": "z3cAwur0JTew",
        "outputId": "e12366ab-a69b-437e-d392-3d95f0c29f0f"
      },
      "outputs": [
        {
          "data": {
            "text/plain": [
              "[{'rouge-1': {'r': 1.0, 'p': 0.5349397590361445, 'f': 0.6970172639048325},\n",
              "  'rouge-2': {'r': 1.0, 'p': 0.43060959792477305, 'f': 0.6019945560821596},\n",
              "  'rouge-l': {'r': 1.0, 'p': 0.5349397590361445, 'f': 0.6970172639048325}}]"
            ]
          },
          "execution_count": 48,
          "metadata": {},
          "output_type": "execute_result"
        }
      ],
      "source": [
        "rouge.get_scores(full_transcript, summary)"
      ]
    }
  ],
  "metadata": {
    "colab": {
      "provenance": [],
      "authorship_tag": "ABX9TyN991HQ+nrV443M9hIRj2ZD",
      "include_colab_link": true
    },
    "kernelspec": {
      "display_name": "Python 3",
      "name": "python3"
    },
    "language_info": {
      "name": "python"
    },
    "widgets": {
      "application/vnd.jupyter.widget-state+json": {
        "0c60cf522a014b7284f846817e65429f": {
          "model_module": "@jupyter-widgets/controls",
          "model_module_version": "1.5.0",
          "model_name": "DescriptionStyleModel",
          "state": {
            "_model_module": "@jupyter-widgets/controls",
            "_model_module_version": "1.5.0",
            "_model_name": "DescriptionStyleModel",
            "_view_count": null,
            "_view_module": "@jupyter-widgets/base",
            "_view_module_version": "1.2.0",
            "_view_name": "StyleView",
            "description_width": ""
          }
        },
        "1324559c33b640858e27b5c557129c7a": {
          "model_module": "@jupyter-widgets/controls",
          "model_module_version": "1.5.0",
          "model_name": "FloatProgressModel",
          "state": {
            "_dom_classes": [],
            "_model_module": "@jupyter-widgets/controls",
            "_model_module_version": "1.5.0",
            "_model_name": "FloatProgressModel",
            "_view_count": null,
            "_view_module": "@jupyter-widgets/controls",
            "_view_module_version": "1.5.0",
            "_view_name": "ProgressView",
            "bar_style": "success",
            "description": "",
            "description_tooltip": null,
            "layout": "IPY_MODEL_830b636e8a0b419390f50c577aded8b0",
            "max": 262,
            "min": 0,
            "orientation": "horizontal",
            "style": "IPY_MODEL_521284ff6f5f43a7932308a0e792fc6f",
            "value": 262
          }
        },
        "168ffff46f684ca59cd2deafeeb335a2": {
          "model_module": "@jupyter-widgets/base",
          "model_module_version": "1.2.0",
          "model_name": "LayoutModel",
          "state": {
            "_model_module": "@jupyter-widgets/base",
            "_model_module_version": "1.2.0",
            "_model_name": "LayoutModel",
            "_view_count": null,
            "_view_module": "@jupyter-widgets/base",
            "_view_module_version": "1.2.0",
            "_view_name": "LayoutView",
            "align_content": null,
            "align_items": null,
            "align_self": null,
            "border": null,
            "bottom": null,
            "display": null,
            "flex": null,
            "flex_flow": null,
            "grid_area": null,
            "grid_auto_columns": null,
            "grid_auto_flow": null,
            "grid_auto_rows": null,
            "grid_column": null,
            "grid_gap": null,
            "grid_row": null,
            "grid_template_areas": null,
            "grid_template_columns": null,
            "grid_template_rows": null,
            "height": null,
            "justify_content": null,
            "justify_items": null,
            "left": null,
            "margin": null,
            "max_height": null,
            "max_width": null,
            "min_height": null,
            "min_width": null,
            "object_fit": null,
            "object_position": null,
            "order": null,
            "overflow": null,
            "overflow_x": null,
            "overflow_y": null,
            "padding": null,
            "right": null,
            "top": null,
            "visibility": null,
            "width": null
          }
        },
        "1d06b9d4ea764cadb5b4cb5dd7a8d39f": {
          "model_module": "@jupyter-widgets/base",
          "model_module_version": "1.2.0",
          "model_name": "LayoutModel",
          "state": {
            "_model_module": "@jupyter-widgets/base",
            "_model_module_version": "1.2.0",
            "_model_name": "LayoutModel",
            "_view_count": null,
            "_view_module": "@jupyter-widgets/base",
            "_view_module_version": "1.2.0",
            "_view_name": "LayoutView",
            "align_content": null,
            "align_items": null,
            "align_self": null,
            "border": null,
            "bottom": null,
            "display": null,
            "flex": null,
            "flex_flow": null,
            "grid_area": null,
            "grid_auto_columns": null,
            "grid_auto_flow": null,
            "grid_auto_rows": null,
            "grid_column": null,
            "grid_gap": null,
            "grid_row": null,
            "grid_template_areas": null,
            "grid_template_columns": null,
            "grid_template_rows": null,
            "height": null,
            "justify_content": null,
            "justify_items": null,
            "left": null,
            "margin": null,
            "max_height": null,
            "max_width": null,
            "min_height": null,
            "min_width": null,
            "object_fit": null,
            "object_position": null,
            "order": null,
            "overflow": null,
            "overflow_x": null,
            "overflow_y": null,
            "padding": null,
            "right": null,
            "top": null,
            "visibility": null,
            "width": null
          }
        },
        "1da9a1b684444d53a15119d1f1a1d168": {
          "model_module": "@jupyter-widgets/controls",
          "model_module_version": "1.5.0",
          "model_name": "ProgressStyleModel",
          "state": {
            "_model_module": "@jupyter-widgets/controls",
            "_model_module_version": "1.5.0",
            "_model_name": "ProgressStyleModel",
            "_view_count": null,
            "_view_module": "@jupyter-widgets/base",
            "_view_module_version": "1.2.0",
            "_view_name": "StyleView",
            "bar_color": null,
            "description_width": ""
          }
        },
        "216aa13db8ff4b26ae0f1b0721da536f": {
          "model_module": "@jupyter-widgets/controls",
          "model_module_version": "1.5.0",
          "model_name": "HTMLModel",
          "state": {
            "_dom_classes": [],
            "_model_module": "@jupyter-widgets/controls",
            "_model_module_version": "1.5.0",
            "_model_name": "HTMLModel",
            "_view_count": null,
            "_view_module": "@jupyter-widgets/controls",
            "_view_module_version": "1.5.0",
            "_view_name": "HTMLView",
            "description": "",
            "description_tooltip": null,
            "layout": "IPY_MODEL_89e50eec69ce4c8798f842f5740a7b6d",
            "placeholder": "​",
            "style": "IPY_MODEL_f080bf7ecb9744f288218e7c1654f3a8",
            "value": "Downloading (…)lve/main/config.json: 100%"
          }
        },
        "23fe4fcc0ed94da585e3451b09c8610a": {
          "model_module": "@jupyter-widgets/controls",
          "model_module_version": "1.5.0",
          "model_name": "DescriptionStyleModel",
          "state": {
            "_model_module": "@jupyter-widgets/controls",
            "_model_module_version": "1.5.0",
            "_model_name": "DescriptionStyleModel",
            "_view_count": null,
            "_view_module": "@jupyter-widgets/base",
            "_view_module_version": "1.2.0",
            "_view_name": "StyleView",
            "description_width": ""
          }
        },
        "240107c0ab2c4af1a0c00ad864f4465e": {
          "model_module": "@jupyter-widgets/base",
          "model_module_version": "1.2.0",
          "model_name": "LayoutModel",
          "state": {
            "_model_module": "@jupyter-widgets/base",
            "_model_module_version": "1.2.0",
            "_model_name": "LayoutModel",
            "_view_count": null,
            "_view_module": "@jupyter-widgets/base",
            "_view_module_version": "1.2.0",
            "_view_name": "LayoutView",
            "align_content": null,
            "align_items": null,
            "align_self": null,
            "border": null,
            "bottom": null,
            "display": null,
            "flex": null,
            "flex_flow": null,
            "grid_area": null,
            "grid_auto_columns": null,
            "grid_auto_flow": null,
            "grid_auto_rows": null,
            "grid_column": null,
            "grid_gap": null,
            "grid_row": null,
            "grid_template_areas": null,
            "grid_template_columns": null,
            "grid_template_rows": null,
            "height": null,
            "justify_content": null,
            "justify_items": null,
            "left": null,
            "margin": null,
            "max_height": null,
            "max_width": null,
            "min_height": null,
            "min_width": null,
            "object_fit": null,
            "object_position": null,
            "order": null,
            "overflow": null,
            "overflow_x": null,
            "overflow_y": null,
            "padding": null,
            "right": null,
            "top": null,
            "visibility": null,
            "width": null
          }
        },
        "27bc8406242343e6bf6500adff0267af": {
          "model_module": "@jupyter-widgets/controls",
          "model_module_version": "1.5.0",
          "model_name": "HBoxModel",
          "state": {
            "_dom_classes": [],
            "_model_module": "@jupyter-widgets/controls",
            "_model_module_version": "1.5.0",
            "_model_name": "HBoxModel",
            "_view_count": null,
            "_view_module": "@jupyter-widgets/controls",
            "_view_module_version": "1.5.0",
            "_view_name": "HBoxView",
            "box_style": "",
            "children": [
              "IPY_MODEL_296f917dfcc84c43b00c086688d96a21",
              "IPY_MODEL_990df190c4b84b26b0825e7b0534cdc6",
              "IPY_MODEL_a1c0858b959948f48110cc26dc2a4b01"
            ],
            "layout": "IPY_MODEL_168ffff46f684ca59cd2deafeeb335a2"
          }
        },
        "296f917dfcc84c43b00c086688d96a21": {
          "model_module": "@jupyter-widgets/controls",
          "model_module_version": "1.5.0",
          "model_name": "HTMLModel",
          "state": {
            "_dom_classes": [],
            "_model_module": "@jupyter-widgets/controls",
            "_model_module_version": "1.5.0",
            "_model_name": "HTMLModel",
            "_view_count": null,
            "_view_module": "@jupyter-widgets/controls",
            "_view_module_version": "1.5.0",
            "_view_name": "HTMLView",
            "description": "",
            "description_tooltip": null,
            "layout": "IPY_MODEL_4e4cae1e5fa64d8aaaa0f7d1b3ba7768",
            "placeholder": "​",
            "style": "IPY_MODEL_583e017ec66b49c4b94ccbc4f6b23776",
            "value": "Downloading (…)cial_tokens_map.json: 100%"
          }
        },
        "2c2fb79ecbd44b54b6d8139d00411939": {
          "model_module": "@jupyter-widgets/controls",
          "model_module_version": "1.5.0",
          "model_name": "DescriptionStyleModel",
          "state": {
            "_model_module": "@jupyter-widgets/controls",
            "_model_module_version": "1.5.0",
            "_model_name": "DescriptionStyleModel",
            "_view_count": null,
            "_view_module": "@jupyter-widgets/base",
            "_view_module_version": "1.2.0",
            "_view_name": "StyleView",
            "description_width": ""
          }
        },
        "38b340ac03374c60b301c3c3becb6932": {
          "model_module": "@jupyter-widgets/controls",
          "model_module_version": "1.5.0",
          "model_name": "ProgressStyleModel",
          "state": {
            "_model_module": "@jupyter-widgets/controls",
            "_model_module_version": "1.5.0",
            "_model_name": "ProgressStyleModel",
            "_view_count": null,
            "_view_module": "@jupyter-widgets/base",
            "_view_module_version": "1.2.0",
            "_view_name": "StyleView",
            "bar_color": null,
            "description_width": ""
          }
        },
        "38b48f4c31c7495484e8390053434ced": {
          "model_module": "@jupyter-widgets/controls",
          "model_module_version": "1.5.0",
          "model_name": "FloatProgressModel",
          "state": {
            "_dom_classes": [],
            "_model_module": "@jupyter-widgets/controls",
            "_model_module_version": "1.5.0",
            "_model_name": "FloatProgressModel",
            "_view_count": null,
            "_view_module": "@jupyter-widgets/controls",
            "_view_module_version": "1.5.0",
            "_view_name": "ProgressView",
            "bar_style": "success",
            "description": "",
            "description_tooltip": null,
            "layout": "IPY_MODEL_d2109e2b457146e088d41fdba0a4907f",
            "max": 300,
            "min": 0,
            "orientation": "horizontal",
            "style": "IPY_MODEL_38b340ac03374c60b301c3c3becb6932",
            "value": 300
          }
        },
        "46c5e77fce884bf6be4d84cdda1a49d6": {
          "model_module": "@jupyter-widgets/controls",
          "model_module_version": "1.5.0",
          "model_name": "HBoxModel",
          "state": {
            "_dom_classes": [],
            "_model_module": "@jupyter-widgets/controls",
            "_model_module_version": "1.5.0",
            "_model_name": "HBoxModel",
            "_view_count": null,
            "_view_module": "@jupyter-widgets/controls",
            "_view_module_version": "1.5.0",
            "_view_name": "HBoxView",
            "box_style": "",
            "children": [
              "IPY_MODEL_216aa13db8ff4b26ae0f1b0721da536f",
              "IPY_MODEL_b590cb30adb54b69b5b594fef4709286",
              "IPY_MODEL_e0b3ecad033e425e9d85b1ac85cf40ee"
            ],
            "layout": "IPY_MODEL_4920af9598c34aeb93885291d6e89869"
          }
        },
        "4920af9598c34aeb93885291d6e89869": {
          "model_module": "@jupyter-widgets/base",
          "model_module_version": "1.2.0",
          "model_name": "LayoutModel",
          "state": {
            "_model_module": "@jupyter-widgets/base",
            "_model_module_version": "1.2.0",
            "_model_name": "LayoutModel",
            "_view_count": null,
            "_view_module": "@jupyter-widgets/base",
            "_view_module_version": "1.2.0",
            "_view_name": "LayoutView",
            "align_content": null,
            "align_items": null,
            "align_self": null,
            "border": null,
            "bottom": null,
            "display": null,
            "flex": null,
            "flex_flow": null,
            "grid_area": null,
            "grid_auto_columns": null,
            "grid_auto_flow": null,
            "grid_auto_rows": null,
            "grid_column": null,
            "grid_gap": null,
            "grid_row": null,
            "grid_template_areas": null,
            "grid_template_columns": null,
            "grid_template_rows": null,
            "height": null,
            "justify_content": null,
            "justify_items": null,
            "left": null,
            "margin": null,
            "max_height": null,
            "max_width": null,
            "min_height": null,
            "min_width": null,
            "object_fit": null,
            "object_position": null,
            "order": null,
            "overflow": null,
            "overflow_x": null,
            "overflow_y": null,
            "padding": null,
            "right": null,
            "top": null,
            "visibility": null,
            "width": null
          }
        },
        "4a74c554fbd54e3ebeff64acc79f650f": {
          "model_module": "@jupyter-widgets/controls",
          "model_module_version": "1.5.0",
          "model_name": "DescriptionStyleModel",
          "state": {
            "_model_module": "@jupyter-widgets/controls",
            "_model_module_version": "1.5.0",
            "_model_name": "DescriptionStyleModel",
            "_view_count": null,
            "_view_module": "@jupyter-widgets/base",
            "_view_module_version": "1.2.0",
            "_view_name": "StyleView",
            "description_width": ""
          }
        },
        "4e4cae1e5fa64d8aaaa0f7d1b3ba7768": {
          "model_module": "@jupyter-widgets/base",
          "model_module_version": "1.2.0",
          "model_name": "LayoutModel",
          "state": {
            "_model_module": "@jupyter-widgets/base",
            "_model_module_version": "1.2.0",
            "_model_name": "LayoutModel",
            "_view_count": null,
            "_view_module": "@jupyter-widgets/base",
            "_view_module_version": "1.2.0",
            "_view_name": "LayoutView",
            "align_content": null,
            "align_items": null,
            "align_self": null,
            "border": null,
            "bottom": null,
            "display": null,
            "flex": null,
            "flex_flow": null,
            "grid_area": null,
            "grid_auto_columns": null,
            "grid_auto_flow": null,
            "grid_auto_rows": null,
            "grid_column": null,
            "grid_gap": null,
            "grid_row": null,
            "grid_template_areas": null,
            "grid_template_columns": null,
            "grid_template_rows": null,
            "height": null,
            "justify_content": null,
            "justify_items": null,
            "left": null,
            "margin": null,
            "max_height": null,
            "max_width": null,
            "min_height": null,
            "min_width": null,
            "object_fit": null,
            "object_position": null,
            "order": null,
            "overflow": null,
            "overflow_x": null,
            "overflow_y": null,
            "padding": null,
            "right": null,
            "top": null,
            "visibility": null,
            "width": null
          }
        },
        "521284ff6f5f43a7932308a0e792fc6f": {
          "model_module": "@jupyter-widgets/controls",
          "model_module_version": "1.5.0",
          "model_name": "ProgressStyleModel",
          "state": {
            "_model_module": "@jupyter-widgets/controls",
            "_model_module_version": "1.5.0",
            "_model_name": "ProgressStyleModel",
            "_view_count": null,
            "_view_module": "@jupyter-widgets/base",
            "_view_module_version": "1.2.0",
            "_view_name": "StyleView",
            "bar_color": null,
            "description_width": ""
          }
        },
        "583e017ec66b49c4b94ccbc4f6b23776": {
          "model_module": "@jupyter-widgets/controls",
          "model_module_version": "1.5.0",
          "model_name": "DescriptionStyleModel",
          "state": {
            "_model_module": "@jupyter-widgets/controls",
            "_model_module_version": "1.5.0",
            "_model_name": "DescriptionStyleModel",
            "_view_count": null,
            "_view_module": "@jupyter-widgets/base",
            "_view_module_version": "1.2.0",
            "_view_name": "StyleView",
            "description_width": ""
          }
        },
        "611941a48d29470cb8f4de2b7f8bfe51": {
          "model_module": "@jupyter-widgets/controls",
          "model_module_version": "1.5.0",
          "model_name": "ProgressStyleModel",
          "state": {
            "_model_module": "@jupyter-widgets/controls",
            "_model_module_version": "1.5.0",
            "_model_name": "ProgressStyleModel",
            "_view_count": null,
            "_view_module": "@jupyter-widgets/base",
            "_view_module_version": "1.2.0",
            "_view_name": "StyleView",
            "bar_color": null,
            "description_width": ""
          }
        },
        "65d4cb43cda14bebadc4cab63a3d7d8c": {
          "model_module": "@jupyter-widgets/base",
          "model_module_version": "1.2.0",
          "model_name": "LayoutModel",
          "state": {
            "_model_module": "@jupyter-widgets/base",
            "_model_module_version": "1.2.0",
            "_model_name": "LayoutModel",
            "_view_count": null,
            "_view_module": "@jupyter-widgets/base",
            "_view_module_version": "1.2.0",
            "_view_name": "LayoutView",
            "align_content": null,
            "align_items": null,
            "align_self": null,
            "border": null,
            "bottom": null,
            "display": null,
            "flex": null,
            "flex_flow": null,
            "grid_area": null,
            "grid_auto_columns": null,
            "grid_auto_flow": null,
            "grid_auto_rows": null,
            "grid_column": null,
            "grid_gap": null,
            "grid_row": null,
            "grid_template_areas": null,
            "grid_template_columns": null,
            "grid_template_rows": null,
            "height": null,
            "justify_content": null,
            "justify_items": null,
            "left": null,
            "margin": null,
            "max_height": null,
            "max_width": null,
            "min_height": null,
            "min_width": null,
            "object_fit": null,
            "object_position": null,
            "order": null,
            "overflow": null,
            "overflow_x": null,
            "overflow_y": null,
            "padding": null,
            "right": null,
            "top": null,
            "visibility": null,
            "width": null
          }
        },
        "693f6322972b401796cec72e53e54f1f": {
          "model_module": "@jupyter-widgets/controls",
          "model_module_version": "1.5.0",
          "model_name": "DescriptionStyleModel",
          "state": {
            "_model_module": "@jupyter-widgets/controls",
            "_model_module_version": "1.5.0",
            "_model_name": "DescriptionStyleModel",
            "_view_count": null,
            "_view_module": "@jupyter-widgets/base",
            "_view_module_version": "1.2.0",
            "_view_name": "StyleView",
            "description_width": ""
          }
        },
        "698fd95cb48d417d94e132f41fd92a4a": {
          "model_module": "@jupyter-widgets/controls",
          "model_module_version": "1.5.0",
          "model_name": "HTMLModel",
          "state": {
            "_dom_classes": [],
            "_model_module": "@jupyter-widgets/controls",
            "_model_module_version": "1.5.0",
            "_model_name": "HTMLModel",
            "_view_count": null,
            "_view_module": "@jupyter-widgets/controls",
            "_view_module_version": "1.5.0",
            "_view_name": "HTMLView",
            "description": "",
            "description_tooltip": null,
            "layout": "IPY_MODEL_f6a6e724492a4f80b965f9b40346667a",
            "placeholder": "​",
            "style": "IPY_MODEL_0c60cf522a014b7284f846817e65429f",
            "value": " 300/300 [00:00&lt;00:00, 21.2kB/s]"
          }
        },
        "6cfc0116d821403f86c63665d8126cda": {
          "model_module": "@jupyter-widgets/base",
          "model_module_version": "1.2.0",
          "model_name": "LayoutModel",
          "state": {
            "_model_module": "@jupyter-widgets/base",
            "_model_module_version": "1.2.0",
            "_model_name": "LayoutModel",
            "_view_count": null,
            "_view_module": "@jupyter-widgets/base",
            "_view_module_version": "1.2.0",
            "_view_name": "LayoutView",
            "align_content": null,
            "align_items": null,
            "align_self": null,
            "border": null,
            "bottom": null,
            "display": null,
            "flex": null,
            "flex_flow": null,
            "grid_area": null,
            "grid_auto_columns": null,
            "grid_auto_flow": null,
            "grid_auto_rows": null,
            "grid_column": null,
            "grid_gap": null,
            "grid_row": null,
            "grid_template_areas": null,
            "grid_template_columns": null,
            "grid_template_rows": null,
            "height": null,
            "justify_content": null,
            "justify_items": null,
            "left": null,
            "margin": null,
            "max_height": null,
            "max_width": null,
            "min_height": null,
            "min_width": null,
            "object_fit": null,
            "object_position": null,
            "order": null,
            "overflow": null,
            "overflow_x": null,
            "overflow_y": null,
            "padding": null,
            "right": null,
            "top": null,
            "visibility": null,
            "width": null
          }
        },
        "6e862ba363bd4e98bd546b2386991820": {
          "model_module": "@jupyter-widgets/base",
          "model_module_version": "1.2.0",
          "model_name": "LayoutModel",
          "state": {
            "_model_module": "@jupyter-widgets/base",
            "_model_module_version": "1.2.0",
            "_model_name": "LayoutModel",
            "_view_count": null,
            "_view_module": "@jupyter-widgets/base",
            "_view_module_version": "1.2.0",
            "_view_name": "LayoutView",
            "align_content": null,
            "align_items": null,
            "align_self": null,
            "border": null,
            "bottom": null,
            "display": null,
            "flex": null,
            "flex_flow": null,
            "grid_area": null,
            "grid_auto_columns": null,
            "grid_auto_flow": null,
            "grid_auto_rows": null,
            "grid_column": null,
            "grid_gap": null,
            "grid_row": null,
            "grid_template_areas": null,
            "grid_template_columns": null,
            "grid_template_rows": null,
            "height": null,
            "justify_content": null,
            "justify_items": null,
            "left": null,
            "margin": null,
            "max_height": null,
            "max_width": null,
            "min_height": null,
            "min_width": null,
            "object_fit": null,
            "object_position": null,
            "order": null,
            "overflow": null,
            "overflow_x": null,
            "overflow_y": null,
            "padding": null,
            "right": null,
            "top": null,
            "visibility": null,
            "width": null
          }
        },
        "7622cda83e7244febdd4315e08337523": {
          "model_module": "@jupyter-widgets/base",
          "model_module_version": "1.2.0",
          "model_name": "LayoutModel",
          "state": {
            "_model_module": "@jupyter-widgets/base",
            "_model_module_version": "1.2.0",
            "_model_name": "LayoutModel",
            "_view_count": null,
            "_view_module": "@jupyter-widgets/base",
            "_view_module_version": "1.2.0",
            "_view_name": "LayoutView",
            "align_content": null,
            "align_items": null,
            "align_self": null,
            "border": null,
            "bottom": null,
            "display": null,
            "flex": null,
            "flex_flow": null,
            "grid_area": null,
            "grid_auto_columns": null,
            "grid_auto_flow": null,
            "grid_auto_rows": null,
            "grid_column": null,
            "grid_gap": null,
            "grid_row": null,
            "grid_template_areas": null,
            "grid_template_columns": null,
            "grid_template_rows": null,
            "height": null,
            "justify_content": null,
            "justify_items": null,
            "left": null,
            "margin": null,
            "max_height": null,
            "max_width": null,
            "min_height": null,
            "min_width": null,
            "object_fit": null,
            "object_position": null,
            "order": null,
            "overflow": null,
            "overflow_x": null,
            "overflow_y": null,
            "padding": null,
            "right": null,
            "top": null,
            "visibility": null,
            "width": null
          }
        },
        "7febe644c6ca4718b480f33eb204eaaf": {
          "model_module": "@jupyter-widgets/base",
          "model_module_version": "1.2.0",
          "model_name": "LayoutModel",
          "state": {
            "_model_module": "@jupyter-widgets/base",
            "_model_module_version": "1.2.0",
            "_model_name": "LayoutModel",
            "_view_count": null,
            "_view_module": "@jupyter-widgets/base",
            "_view_module_version": "1.2.0",
            "_view_name": "LayoutView",
            "align_content": null,
            "align_items": null,
            "align_self": null,
            "border": null,
            "bottom": null,
            "display": null,
            "flex": null,
            "flex_flow": null,
            "grid_area": null,
            "grid_auto_columns": null,
            "grid_auto_flow": null,
            "grid_auto_rows": null,
            "grid_column": null,
            "grid_gap": null,
            "grid_row": null,
            "grid_template_areas": null,
            "grid_template_columns": null,
            "grid_template_rows": null,
            "height": null,
            "justify_content": null,
            "justify_items": null,
            "left": null,
            "margin": null,
            "max_height": null,
            "max_width": null,
            "min_height": null,
            "min_width": null,
            "object_fit": null,
            "object_position": null,
            "order": null,
            "overflow": null,
            "overflow_x": null,
            "overflow_y": null,
            "padding": null,
            "right": null,
            "top": null,
            "visibility": null,
            "width": null
          }
        },
        "82b1b276a0384f14afad1e834289e774": {
          "model_module": "@jupyter-widgets/controls",
          "model_module_version": "1.5.0",
          "model_name": "HTMLModel",
          "state": {
            "_dom_classes": [],
            "_model_module": "@jupyter-widgets/controls",
            "_model_module_version": "1.5.0",
            "_model_name": "HTMLModel",
            "_view_count": null,
            "_view_module": "@jupyter-widgets/controls",
            "_view_module_version": "1.5.0",
            "_view_name": "HTMLView",
            "description": "",
            "description_tooltip": null,
            "layout": "IPY_MODEL_240107c0ab2c4af1a0c00ad864f4465e",
            "placeholder": "​",
            "style": "IPY_MODEL_4a74c554fbd54e3ebeff64acc79f650f",
            "value": " 262/262 [00:00&lt;00:00, 14.1kB/s]"
          }
        },
        "830b636e8a0b419390f50c577aded8b0": {
          "model_module": "@jupyter-widgets/base",
          "model_module_version": "1.2.0",
          "model_name": "LayoutModel",
          "state": {
            "_model_module": "@jupyter-widgets/base",
            "_model_module_version": "1.2.0",
            "_model_name": "LayoutModel",
            "_view_count": null,
            "_view_module": "@jupyter-widgets/base",
            "_view_module_version": "1.2.0",
            "_view_name": "LayoutView",
            "align_content": null,
            "align_items": null,
            "align_self": null,
            "border": null,
            "bottom": null,
            "display": null,
            "flex": null,
            "flex_flow": null,
            "grid_area": null,
            "grid_auto_columns": null,
            "grid_auto_flow": null,
            "grid_auto_rows": null,
            "grid_column": null,
            "grid_gap": null,
            "grid_row": null,
            "grid_template_areas": null,
            "grid_template_columns": null,
            "grid_template_rows": null,
            "height": null,
            "justify_content": null,
            "justify_items": null,
            "left": null,
            "margin": null,
            "max_height": null,
            "max_width": null,
            "min_height": null,
            "min_width": null,
            "object_fit": null,
            "object_position": null,
            "order": null,
            "overflow": null,
            "overflow_x": null,
            "overflow_y": null,
            "padding": null,
            "right": null,
            "top": null,
            "visibility": null,
            "width": null
          }
        },
        "884f88afa04d4b59a00dbe3a5d08d57b": {
          "model_module": "@jupyter-widgets/base",
          "model_module_version": "1.2.0",
          "model_name": "LayoutModel",
          "state": {
            "_model_module": "@jupyter-widgets/base",
            "_model_module_version": "1.2.0",
            "_model_name": "LayoutModel",
            "_view_count": null,
            "_view_module": "@jupyter-widgets/base",
            "_view_module_version": "1.2.0",
            "_view_name": "LayoutView",
            "align_content": null,
            "align_items": null,
            "align_self": null,
            "border": null,
            "bottom": null,
            "display": null,
            "flex": null,
            "flex_flow": null,
            "grid_area": null,
            "grid_auto_columns": null,
            "grid_auto_flow": null,
            "grid_auto_rows": null,
            "grid_column": null,
            "grid_gap": null,
            "grid_row": null,
            "grid_template_areas": null,
            "grid_template_columns": null,
            "grid_template_rows": null,
            "height": null,
            "justify_content": null,
            "justify_items": null,
            "left": null,
            "margin": null,
            "max_height": null,
            "max_width": null,
            "min_height": null,
            "min_width": null,
            "object_fit": null,
            "object_position": null,
            "order": null,
            "overflow": null,
            "overflow_x": null,
            "overflow_y": null,
            "padding": null,
            "right": null,
            "top": null,
            "visibility": null,
            "width": null
          }
        },
        "8894ad8a37fa4950b657a2bc77a26cf1": {
          "model_module": "@jupyter-widgets/controls",
          "model_module_version": "1.5.0",
          "model_name": "FloatProgressModel",
          "state": {
            "_dom_classes": [],
            "_model_module": "@jupyter-widgets/controls",
            "_model_module_version": "1.5.0",
            "_model_name": "FloatProgressModel",
            "_view_count": null,
            "_view_module": "@jupyter-widgets/controls",
            "_view_module_version": "1.5.0",
            "_view_name": "ProgressView",
            "bar_style": "success",
            "description": "",
            "description_tooltip": null,
            "layout": "IPY_MODEL_6cfc0116d821403f86c63665d8126cda",
            "max": 1262069143,
            "min": 0,
            "orientation": "horizontal",
            "style": "IPY_MODEL_b06daacb06eb424b9a4ff930fd719e2b",
            "value": 1262069143
          }
        },
        "89e50eec69ce4c8798f842f5740a7b6d": {
          "model_module": "@jupyter-widgets/base",
          "model_module_version": "1.2.0",
          "model_name": "LayoutModel",
          "state": {
            "_model_module": "@jupyter-widgets/base",
            "_model_module_version": "1.2.0",
            "_model_name": "LayoutModel",
            "_view_count": null,
            "_view_module": "@jupyter-widgets/base",
            "_view_module_version": "1.2.0",
            "_view_name": "LayoutView",
            "align_content": null,
            "align_items": null,
            "align_self": null,
            "border": null,
            "bottom": null,
            "display": null,
            "flex": null,
            "flex_flow": null,
            "grid_area": null,
            "grid_auto_columns": null,
            "grid_auto_flow": null,
            "grid_auto_rows": null,
            "grid_column": null,
            "grid_gap": null,
            "grid_row": null,
            "grid_template_areas": null,
            "grid_template_columns": null,
            "grid_template_rows": null,
            "height": null,
            "justify_content": null,
            "justify_items": null,
            "left": null,
            "margin": null,
            "max_height": null,
            "max_width": null,
            "min_height": null,
            "min_width": null,
            "object_fit": null,
            "object_position": null,
            "order": null,
            "overflow": null,
            "overflow_x": null,
            "overflow_y": null,
            "padding": null,
            "right": null,
            "top": null,
            "visibility": null,
            "width": null
          }
        },
        "8c1038421df34dffbbfe1e027c199932": {
          "model_module": "@jupyter-widgets/controls",
          "model_module_version": "1.5.0",
          "model_name": "HBoxModel",
          "state": {
            "_dom_classes": [],
            "_model_module": "@jupyter-widgets/controls",
            "_model_module_version": "1.5.0",
            "_model_name": "HBoxModel",
            "_view_count": null,
            "_view_module": "@jupyter-widgets/controls",
            "_view_module_version": "1.5.0",
            "_view_name": "HBoxView",
            "box_style": "",
            "children": [
              "IPY_MODEL_c3571a671c4f47d4a179b65c84f3bdb1",
              "IPY_MODEL_1324559c33b640858e27b5c557129c7a",
              "IPY_MODEL_82b1b276a0384f14afad1e834289e774"
            ],
            "layout": "IPY_MODEL_9815f27063ae4aa5ac66ad376279235e"
          }
        },
        "95517dee222247fbbea68a9d4f7708d2": {
          "model_module": "@jupyter-widgets/controls",
          "model_module_version": "1.5.0",
          "model_name": "HBoxModel",
          "state": {
            "_dom_classes": [],
            "_model_module": "@jupyter-widgets/controls",
            "_model_module_version": "1.5.0",
            "_model_name": "HBoxModel",
            "_view_count": null,
            "_view_module": "@jupyter-widgets/controls",
            "_view_module_version": "1.5.0",
            "_view_name": "HBoxView",
            "box_style": "",
            "children": [
              "IPY_MODEL_b208f46209ef442da02b40c3db0a9431",
              "IPY_MODEL_8894ad8a37fa4950b657a2bc77a26cf1",
              "IPY_MODEL_ecb0d59002364ed8aa2f8f4be1050623"
            ],
            "layout": "IPY_MODEL_f43fa0b7983e46e585e6056cf1f23793"
          }
        },
        "9815f27063ae4aa5ac66ad376279235e": {
          "model_module": "@jupyter-widgets/base",
          "model_module_version": "1.2.0",
          "model_name": "LayoutModel",
          "state": {
            "_model_module": "@jupyter-widgets/base",
            "_model_module_version": "1.2.0",
            "_model_name": "LayoutModel",
            "_view_count": null,
            "_view_module": "@jupyter-widgets/base",
            "_view_module_version": "1.2.0",
            "_view_name": "LayoutView",
            "align_content": null,
            "align_items": null,
            "align_self": null,
            "border": null,
            "bottom": null,
            "display": null,
            "flex": null,
            "flex_flow": null,
            "grid_area": null,
            "grid_auto_columns": null,
            "grid_auto_flow": null,
            "grid_auto_rows": null,
            "grid_column": null,
            "grid_gap": null,
            "grid_row": null,
            "grid_template_areas": null,
            "grid_template_columns": null,
            "grid_template_rows": null,
            "height": null,
            "justify_content": null,
            "justify_items": null,
            "left": null,
            "margin": null,
            "max_height": null,
            "max_width": null,
            "min_height": null,
            "min_width": null,
            "object_fit": null,
            "object_position": null,
            "order": null,
            "overflow": null,
            "overflow_x": null,
            "overflow_y": null,
            "padding": null,
            "right": null,
            "top": null,
            "visibility": null,
            "width": null
          }
        },
        "990df190c4b84b26b0825e7b0534cdc6": {
          "model_module": "@jupyter-widgets/controls",
          "model_module_version": "1.5.0",
          "model_name": "FloatProgressModel",
          "state": {
            "_dom_classes": [],
            "_model_module": "@jupyter-widgets/controls",
            "_model_module_version": "1.5.0",
            "_model_name": "FloatProgressModel",
            "_view_count": null,
            "_view_module": "@jupyter-widgets/controls",
            "_view_module_version": "1.5.0",
            "_view_name": "ProgressView",
            "bar_style": "success",
            "description": "",
            "description_tooltip": null,
            "layout": "IPY_MODEL_884f88afa04d4b59a00dbe3a5d08d57b",
            "max": 85,
            "min": 0,
            "orientation": "horizontal",
            "style": "IPY_MODEL_611941a48d29470cb8f4de2b7f8bfe51",
            "value": 85
          }
        },
        "992efb09df884352a5c1206c5c864ec2": {
          "model_module": "@jupyter-widgets/controls",
          "model_module_version": "1.5.0",
          "model_name": "HTMLModel",
          "state": {
            "_dom_classes": [],
            "_model_module": "@jupyter-widgets/controls",
            "_model_module_version": "1.5.0",
            "_model_name": "HTMLModel",
            "_view_count": null,
            "_view_module": "@jupyter-widgets/controls",
            "_view_module_version": "1.5.0",
            "_view_name": "HTMLView",
            "description": "",
            "description_tooltip": null,
            "layout": "IPY_MODEL_1d06b9d4ea764cadb5b4cb5dd7a8d39f",
            "placeholder": "​",
            "style": "IPY_MODEL_f12c2f07b0494b81a1c5fe1f7ade1ce2",
            "value": "Downloading (…)olve/main/vocab.json: 100%"
          }
        },
        "a1c0858b959948f48110cc26dc2a4b01": {
          "model_module": "@jupyter-widgets/controls",
          "model_module_version": "1.5.0",
          "model_name": "HTMLModel",
          "state": {
            "_dom_classes": [],
            "_model_module": "@jupyter-widgets/controls",
            "_model_module_version": "1.5.0",
            "_model_name": "HTMLModel",
            "_view_count": null,
            "_view_module": "@jupyter-widgets/controls",
            "_view_module_version": "1.5.0",
            "_view_name": "HTMLView",
            "description": "",
            "description_tooltip": null,
            "layout": "IPY_MODEL_65d4cb43cda14bebadc4cab63a3d7d8c",
            "placeholder": "​",
            "style": "IPY_MODEL_2c2fb79ecbd44b54b6d8139d00411939",
            "value": " 85.0/85.0 [00:00&lt;00:00, 3.09kB/s]"
          }
        },
        "a645fe59bdfb477d8d3e3a470205932a": {
          "model_module": "@jupyter-widgets/base",
          "model_module_version": "1.2.0",
          "model_name": "LayoutModel",
          "state": {
            "_model_module": "@jupyter-widgets/base",
            "_model_module_version": "1.2.0",
            "_model_name": "LayoutModel",
            "_view_count": null,
            "_view_module": "@jupyter-widgets/base",
            "_view_module_version": "1.2.0",
            "_view_name": "LayoutView",
            "align_content": null,
            "align_items": null,
            "align_self": null,
            "border": null,
            "bottom": null,
            "display": null,
            "flex": null,
            "flex_flow": null,
            "grid_area": null,
            "grid_auto_columns": null,
            "grid_auto_flow": null,
            "grid_auto_rows": null,
            "grid_column": null,
            "grid_gap": null,
            "grid_row": null,
            "grid_template_areas": null,
            "grid_template_columns": null,
            "grid_template_rows": null,
            "height": null,
            "justify_content": null,
            "justify_items": null,
            "left": null,
            "margin": null,
            "max_height": null,
            "max_width": null,
            "min_height": null,
            "min_width": null,
            "object_fit": null,
            "object_position": null,
            "order": null,
            "overflow": null,
            "overflow_x": null,
            "overflow_y": null,
            "padding": null,
            "right": null,
            "top": null,
            "visibility": null,
            "width": null
          }
        },
        "a6e6415e6710410293c3520824e1d729": {
          "model_module": "@jupyter-widgets/base",
          "model_module_version": "1.2.0",
          "model_name": "LayoutModel",
          "state": {
            "_model_module": "@jupyter-widgets/base",
            "_model_module_version": "1.2.0",
            "_model_name": "LayoutModel",
            "_view_count": null,
            "_view_module": "@jupyter-widgets/base",
            "_view_module_version": "1.2.0",
            "_view_name": "LayoutView",
            "align_content": null,
            "align_items": null,
            "align_self": null,
            "border": null,
            "bottom": null,
            "display": null,
            "flex": null,
            "flex_flow": null,
            "grid_area": null,
            "grid_auto_columns": null,
            "grid_auto_flow": null,
            "grid_auto_rows": null,
            "grid_column": null,
            "grid_gap": null,
            "grid_row": null,
            "grid_template_areas": null,
            "grid_template_columns": null,
            "grid_template_rows": null,
            "height": null,
            "justify_content": null,
            "justify_items": null,
            "left": null,
            "margin": null,
            "max_height": null,
            "max_width": null,
            "min_height": null,
            "min_width": null,
            "object_fit": null,
            "object_position": null,
            "order": null,
            "overflow": null,
            "overflow_x": null,
            "overflow_y": null,
            "padding": null,
            "right": null,
            "top": null,
            "visibility": null,
            "width": null
          }
        },
        "b06daacb06eb424b9a4ff930fd719e2b": {
          "model_module": "@jupyter-widgets/controls",
          "model_module_version": "1.5.0",
          "model_name": "ProgressStyleModel",
          "state": {
            "_model_module": "@jupyter-widgets/controls",
            "_model_module_version": "1.5.0",
            "_model_name": "ProgressStyleModel",
            "_view_count": null,
            "_view_module": "@jupyter-widgets/base",
            "_view_module_version": "1.2.0",
            "_view_name": "StyleView",
            "bar_color": null,
            "description_width": ""
          }
        },
        "b208f46209ef442da02b40c3db0a9431": {
          "model_module": "@jupyter-widgets/controls",
          "model_module_version": "1.5.0",
          "model_name": "HTMLModel",
          "state": {
            "_dom_classes": [],
            "_model_module": "@jupyter-widgets/controls",
            "_model_module_version": "1.5.0",
            "_model_name": "HTMLModel",
            "_view_count": null,
            "_view_module": "@jupyter-widgets/controls",
            "_view_module_version": "1.5.0",
            "_view_name": "HTMLView",
            "description": "",
            "description_tooltip": null,
            "layout": "IPY_MODEL_f739d9e00b9447feaac37e62c95a927c",
            "placeholder": "​",
            "style": "IPY_MODEL_693f6322972b401796cec72e53e54f1f",
            "value": "Downloading pytorch_model.bin: 100%"
          }
        },
        "b590cb30adb54b69b5b594fef4709286": {
          "model_module": "@jupyter-widgets/controls",
          "model_module_version": "1.5.0",
          "model_name": "FloatProgressModel",
          "state": {
            "_dom_classes": [],
            "_model_module": "@jupyter-widgets/controls",
            "_model_module_version": "1.5.0",
            "_model_name": "FloatProgressModel",
            "_view_count": null,
            "_view_module": "@jupyter-widgets/controls",
            "_view_module_version": "1.5.0",
            "_view_name": "ProgressView",
            "bar_style": "success",
            "description": "",
            "description_tooltip": null,
            "layout": "IPY_MODEL_a645fe59bdfb477d8d3e3a470205932a",
            "max": 1531,
            "min": 0,
            "orientation": "horizontal",
            "style": "IPY_MODEL_1da9a1b684444d53a15119d1f1a1d168",
            "value": 1531
          }
        },
        "bc26ee53ef9d4d1593b585241cf721fa": {
          "model_module": "@jupyter-widgets/controls",
          "model_module_version": "1.5.0",
          "model_name": "DescriptionStyleModel",
          "state": {
            "_model_module": "@jupyter-widgets/controls",
            "_model_module_version": "1.5.0",
            "_model_name": "DescriptionStyleModel",
            "_view_count": null,
            "_view_module": "@jupyter-widgets/base",
            "_view_module_version": "1.2.0",
            "_view_name": "StyleView",
            "description_width": ""
          }
        },
        "c3571a671c4f47d4a179b65c84f3bdb1": {
          "model_module": "@jupyter-widgets/controls",
          "model_module_version": "1.5.0",
          "model_name": "HTMLModel",
          "state": {
            "_dom_classes": [],
            "_model_module": "@jupyter-widgets/controls",
            "_model_module_version": "1.5.0",
            "_model_name": "HTMLModel",
            "_view_count": null,
            "_view_module": "@jupyter-widgets/controls",
            "_view_module_version": "1.5.0",
            "_view_name": "HTMLView",
            "description": "",
            "description_tooltip": null,
            "layout": "IPY_MODEL_7febe644c6ca4718b480f33eb204eaaf",
            "placeholder": "​",
            "style": "IPY_MODEL_bc26ee53ef9d4d1593b585241cf721fa",
            "value": "Downloading (…)rocessor_config.json: 100%"
          }
        },
        "d2109e2b457146e088d41fdba0a4907f": {
          "model_module": "@jupyter-widgets/base",
          "model_module_version": "1.2.0",
          "model_name": "LayoutModel",
          "state": {
            "_model_module": "@jupyter-widgets/base",
            "_model_module_version": "1.2.0",
            "_model_name": "LayoutModel",
            "_view_count": null,
            "_view_module": "@jupyter-widgets/base",
            "_view_module_version": "1.2.0",
            "_view_name": "LayoutView",
            "align_content": null,
            "align_items": null,
            "align_self": null,
            "border": null,
            "bottom": null,
            "display": null,
            "flex": null,
            "flex_flow": null,
            "grid_area": null,
            "grid_auto_columns": null,
            "grid_auto_flow": null,
            "grid_auto_rows": null,
            "grid_column": null,
            "grid_gap": null,
            "grid_row": null,
            "grid_template_areas": null,
            "grid_template_columns": null,
            "grid_template_rows": null,
            "height": null,
            "justify_content": null,
            "justify_items": null,
            "left": null,
            "margin": null,
            "max_height": null,
            "max_width": null,
            "min_height": null,
            "min_width": null,
            "object_fit": null,
            "object_position": null,
            "order": null,
            "overflow": null,
            "overflow_x": null,
            "overflow_y": null,
            "padding": null,
            "right": null,
            "top": null,
            "visibility": null,
            "width": null
          }
        },
        "e0b3ecad033e425e9d85b1ac85cf40ee": {
          "model_module": "@jupyter-widgets/controls",
          "model_module_version": "1.5.0",
          "model_name": "HTMLModel",
          "state": {
            "_dom_classes": [],
            "_model_module": "@jupyter-widgets/controls",
            "_model_module_version": "1.5.0",
            "_model_name": "HTMLModel",
            "_view_count": null,
            "_view_module": "@jupyter-widgets/controls",
            "_view_module_version": "1.5.0",
            "_view_name": "HTMLView",
            "description": "",
            "description_tooltip": null,
            "layout": "IPY_MODEL_6e862ba363bd4e98bd546b2386991820",
            "placeholder": "​",
            "style": "IPY_MODEL_23fe4fcc0ed94da585e3451b09c8610a",
            "value": " 1.53k/1.53k [00:00&lt;00:00, 48.7kB/s]"
          }
        },
        "e4acda30c087431d9d38047ef7912090": {
          "model_module": "@jupyter-widgets/controls",
          "model_module_version": "1.5.0",
          "model_name": "DescriptionStyleModel",
          "state": {
            "_model_module": "@jupyter-widgets/controls",
            "_model_module_version": "1.5.0",
            "_model_name": "DescriptionStyleModel",
            "_view_count": null,
            "_view_module": "@jupyter-widgets/base",
            "_view_module_version": "1.2.0",
            "_view_name": "StyleView",
            "description_width": ""
          }
        },
        "ecb0d59002364ed8aa2f8f4be1050623": {
          "model_module": "@jupyter-widgets/controls",
          "model_module_version": "1.5.0",
          "model_name": "HTMLModel",
          "state": {
            "_dom_classes": [],
            "_model_module": "@jupyter-widgets/controls",
            "_model_module_version": "1.5.0",
            "_model_name": "HTMLModel",
            "_view_count": null,
            "_view_module": "@jupyter-widgets/controls",
            "_view_module_version": "1.5.0",
            "_view_name": "HTMLView",
            "description": "",
            "description_tooltip": null,
            "layout": "IPY_MODEL_a6e6415e6710410293c3520824e1d729",
            "placeholder": "​",
            "style": "IPY_MODEL_e4acda30c087431d9d38047ef7912090",
            "value": " 1.26G/1.26G [00:14&lt;00:00, 126MB/s]"
          }
        },
        "f080bf7ecb9744f288218e7c1654f3a8": {
          "model_module": "@jupyter-widgets/controls",
          "model_module_version": "1.5.0",
          "model_name": "DescriptionStyleModel",
          "state": {
            "_model_module": "@jupyter-widgets/controls",
            "_model_module_version": "1.5.0",
            "_model_name": "DescriptionStyleModel",
            "_view_count": null,
            "_view_module": "@jupyter-widgets/base",
            "_view_module_version": "1.2.0",
            "_view_name": "StyleView",
            "description_width": ""
          }
        },
        "f12c2f07b0494b81a1c5fe1f7ade1ce2": {
          "model_module": "@jupyter-widgets/controls",
          "model_module_version": "1.5.0",
          "model_name": "DescriptionStyleModel",
          "state": {
            "_model_module": "@jupyter-widgets/controls",
            "_model_module_version": "1.5.0",
            "_model_name": "DescriptionStyleModel",
            "_view_count": null,
            "_view_module": "@jupyter-widgets/base",
            "_view_module_version": "1.2.0",
            "_view_name": "StyleView",
            "description_width": ""
          }
        },
        "f43fa0b7983e46e585e6056cf1f23793": {
          "model_module": "@jupyter-widgets/base",
          "model_module_version": "1.2.0",
          "model_name": "LayoutModel",
          "state": {
            "_model_module": "@jupyter-widgets/base",
            "_model_module_version": "1.2.0",
            "_model_name": "LayoutModel",
            "_view_count": null,
            "_view_module": "@jupyter-widgets/base",
            "_view_module_version": "1.2.0",
            "_view_name": "LayoutView",
            "align_content": null,
            "align_items": null,
            "align_self": null,
            "border": null,
            "bottom": null,
            "display": null,
            "flex": null,
            "flex_flow": null,
            "grid_area": null,
            "grid_auto_columns": null,
            "grid_auto_flow": null,
            "grid_auto_rows": null,
            "grid_column": null,
            "grid_gap": null,
            "grid_row": null,
            "grid_template_areas": null,
            "grid_template_columns": null,
            "grid_template_rows": null,
            "height": null,
            "justify_content": null,
            "justify_items": null,
            "left": null,
            "margin": null,
            "max_height": null,
            "max_width": null,
            "min_height": null,
            "min_width": null,
            "object_fit": null,
            "object_position": null,
            "order": null,
            "overflow": null,
            "overflow_x": null,
            "overflow_y": null,
            "padding": null,
            "right": null,
            "top": null,
            "visibility": null,
            "width": null
          }
        },
        "f6a6e724492a4f80b965f9b40346667a": {
          "model_module": "@jupyter-widgets/base",
          "model_module_version": "1.2.0",
          "model_name": "LayoutModel",
          "state": {
            "_model_module": "@jupyter-widgets/base",
            "_model_module_version": "1.2.0",
            "_model_name": "LayoutModel",
            "_view_count": null,
            "_view_module": "@jupyter-widgets/base",
            "_view_module_version": "1.2.0",
            "_view_name": "LayoutView",
            "align_content": null,
            "align_items": null,
            "align_self": null,
            "border": null,
            "bottom": null,
            "display": null,
            "flex": null,
            "flex_flow": null,
            "grid_area": null,
            "grid_auto_columns": null,
            "grid_auto_flow": null,
            "grid_auto_rows": null,
            "grid_column": null,
            "grid_gap": null,
            "grid_row": null,
            "grid_template_areas": null,
            "grid_template_columns": null,
            "grid_template_rows": null,
            "height": null,
            "justify_content": null,
            "justify_items": null,
            "left": null,
            "margin": null,
            "max_height": null,
            "max_width": null,
            "min_height": null,
            "min_width": null,
            "object_fit": null,
            "object_position": null,
            "order": null,
            "overflow": null,
            "overflow_x": null,
            "overflow_y": null,
            "padding": null,
            "right": null,
            "top": null,
            "visibility": null,
            "width": null
          }
        },
        "f739d9e00b9447feaac37e62c95a927c": {
          "model_module": "@jupyter-widgets/base",
          "model_module_version": "1.2.0",
          "model_name": "LayoutModel",
          "state": {
            "_model_module": "@jupyter-widgets/base",
            "_model_module_version": "1.2.0",
            "_model_name": "LayoutModel",
            "_view_count": null,
            "_view_module": "@jupyter-widgets/base",
            "_view_module_version": "1.2.0",
            "_view_name": "LayoutView",
            "align_content": null,
            "align_items": null,
            "align_self": null,
            "border": null,
            "bottom": null,
            "display": null,
            "flex": null,
            "flex_flow": null,
            "grid_area": null,
            "grid_auto_columns": null,
            "grid_auto_flow": null,
            "grid_auto_rows": null,
            "grid_column": null,
            "grid_gap": null,
            "grid_row": null,
            "grid_template_areas": null,
            "grid_template_columns": null,
            "grid_template_rows": null,
            "height": null,
            "justify_content": null,
            "justify_items": null,
            "left": null,
            "margin": null,
            "max_height": null,
            "max_width": null,
            "min_height": null,
            "min_width": null,
            "object_fit": null,
            "object_position": null,
            "order": null,
            "overflow": null,
            "overflow_x": null,
            "overflow_y": null,
            "padding": null,
            "right": null,
            "top": null,
            "visibility": null,
            "width": null
          }
        },
        "f7889440197646d2b33becf57372dd45": {
          "model_module": "@jupyter-widgets/controls",
          "model_module_version": "1.5.0",
          "model_name": "HBoxModel",
          "state": {
            "_dom_classes": [],
            "_model_module": "@jupyter-widgets/controls",
            "_model_module_version": "1.5.0",
            "_model_name": "HBoxModel",
            "_view_count": null,
            "_view_module": "@jupyter-widgets/controls",
            "_view_module_version": "1.5.0",
            "_view_name": "HBoxView",
            "box_style": "",
            "children": [
              "IPY_MODEL_992efb09df884352a5c1206c5c864ec2",
              "IPY_MODEL_38b48f4c31c7495484e8390053434ced",
              "IPY_MODEL_698fd95cb48d417d94e132f41fd92a4a"
            ],
            "layout": "IPY_MODEL_7622cda83e7244febdd4315e08337523"
          }
        }
      }
    }
  },
  "nbformat": 4,
  "nbformat_minor": 0
}